{
 "cells": [
  {
   "cell_type": "code",
   "execution_count": 281,
   "id": "5b6f3abc-e35c-4600-863f-1a6e9fcac52d",
   "metadata": {
    "tags": []
   },
   "outputs": [],
   "source": [
    "# importing essential packages\n",
    "import numpy as np\n",
    "import os\n",
    "import sys\n",
    "from sympy import *\n",
    "from sympy.physics.quantum import TensorProduct\n",
    "import matplotlib.pyplot as plt\n",
    "import tensorflow as tf\n",
    "import tensorflow.keras.backend as K\n",
    "from tensorflow.keras.models import Model, load_model\n",
    "from tensorflow.keras.layers import Dense, Input, Concatenate, Lambda"
   ]
  },
  {
   "cell_type": "code",
   "execution_count": 283,
   "id": "4a827458-64e5-47cd-a69e-08566c57ed32",
   "metadata": {
    "tags": []
   },
   "outputs": [],
   "source": [
    "#para_a = np.array([0.5]) #a np.linspace(0.0,0.5,25)\n",
    "#para_b = np.array([0.0]) #b\n",
    "para_w = np.array([0.575]) #w np.array([0.5,0.55,0.6,0.65,0.7,0.75,0.8,0.85,0.9,0.95,1.0])\n",
    "para_u = np.array([0.850]) #u\n",
    "v = 1"
   ]
  },
  {
   "cell_type": "code",
   "execution_count": 285,
   "id": "b75e6c23-5725-4dd4-b9c4-db93482257f4",
   "metadata": {
    "tags": []
   },
   "outputs": [],
   "source": [
    "v,u,w = symbols('v u w')\n",
    "#aval = para_a[0]\n",
    "#bval = para_b[0]\n",
    "\n",
    "pval = 0.5\n",
    "rval = 0.5-pval\n",
    "qval = 0.5\n",
    "sval = 0.0\n",
    "M1 = v*Matrix([[pval,0,0,qval],[0,rval,sval,0],[0,sval,rval,0],[qval,0,0,pval]])+(1-v)*Matrix([[1,0,0,0],[0,1,0,0],[0,0,1,0],[0,0,0,1]])*(1/4)\n",
    "\n",
    "pval = 0.5\n",
    "rval = 0.5-pval\n",
    "qval = 0.0\n",
    "sval = 0.0\n",
    "M2 = v*Matrix([[pval,0,0,qval],[0,rval,sval,0],[0,sval,rval,0],[qval,0,0,pval]])+(1-v)*Matrix([[1,0,0,0],[0,1,0,0],[0,0,1,0],[0,0,0,1]])*(1/4)\n",
    "\n",
    "pval = 0.25\n",
    "rval = 0.5-pval\n",
    "qval = 0.0\n",
    "sval = 0.0\n",
    "M3 = v*Matrix([[pval,0,0,qval],[0,rval,sval,0],[0,sval,rval,0],[qval,0,0,pval]])+(1-v)*Matrix([[1,0,0,0],[0,1,0,0],[0,0,1,0],[0,0,0,1]])*(1/4)"
   ]
  },
  {
   "cell_type": "code",
   "execution_count": 287,
   "id": "a85e7b58-0388-4b56-b9ef-07793725d1e8",
   "metadata": {
    "tags": []
   },
   "outputs": [
    {
     "data": {
      "text/latex": [
       "$\\displaystyle \\left[\\begin{matrix}0.5 & 0 & 0 & 0.5\\\\0 & 0 & 0 & 0\\\\0 & 0 & 0 & 0\\\\0.5 & 0 & 0 & 0.5\\end{matrix}\\right]$"
      ],
      "text/plain": [
       "Matrix([\n",
       "[0.5, 0, 0, 0.5],\n",
       "[  0, 0, 0,   0],\n",
       "[  0, 0, 0,   0],\n",
       "[0.5, 0, 0, 0.5]])"
      ]
     },
     "execution_count": 287,
     "metadata": {},
     "output_type": "execute_result"
    }
   ],
   "source": [
    "M1.subs(v,1)"
   ]
  },
  {
   "cell_type": "code",
   "execution_count": 289,
   "id": "a24bab30-ef31-43b5-a720-eea2a29d5a8d",
   "metadata": {
    "tags": []
   },
   "outputs": [
    {
     "data": {
      "text/latex": [
       "$\\displaystyle \\left[\\begin{matrix}0.5 & 0 & 0 & 0\\\\0 & 0 & 0 & 0\\\\0 & 0 & 0 & 0\\\\0 & 0 & 0 & 0.5\\end{matrix}\\right]$"
      ],
      "text/plain": [
       "Matrix([\n",
       "[0.5, 0, 0,   0],\n",
       "[  0, 0, 0,   0],\n",
       "[  0, 0, 0,   0],\n",
       "[  0, 0, 0, 0.5]])"
      ]
     },
     "execution_count": 289,
     "metadata": {},
     "output_type": "execute_result"
    }
   ],
   "source": [
    "M2.subs(v,1)"
   ]
  },
  {
   "cell_type": "code",
   "execution_count": 291,
   "id": "1fb982ff-d9c3-4a4c-8f2b-e20dd25d142a",
   "metadata": {
    "tags": []
   },
   "outputs": [
    {
     "data": {
      "text/latex": [
       "$\\displaystyle \\left[\\begin{matrix}0.25 & 0 & 0 & 0\\\\0 & 0.25 & 0 & 0\\\\0 & 0 & 0.25 & 0\\\\0 & 0 & 0 & 0.25\\end{matrix}\\right]$"
      ],
      "text/plain": [
       "Matrix([\n",
       "[0.25,    0,    0,    0],\n",
       "[   0, 0.25,    0,    0],\n",
       "[   0,    0, 0.25,    0],\n",
       "[   0,    0,    0, 0.25]])"
      ]
     },
     "execution_count": 291,
     "metadata": {},
     "output_type": "execute_result"
    }
   ],
   "source": [
    "M3.subs(v,1)"
   ]
  },
  {
   "cell_type": "code",
   "execution_count": 293,
   "id": "80a52183-9839-416f-878d-31a7732451c4",
   "metadata": {
    "tags": []
   },
   "outputs": [],
   "source": [
    "MMM1 = TensorProduct(TensorProduct(M1,M1),M1)\n",
    "MMM2 = TensorProduct(TensorProduct(M2,M2),M2)\n",
    "MMM3 = TensorProduct(TensorProduct(M3,M3),M3)\n",
    "\n",
    "def TriBasisCorr(MMM):\n",
    "    MT = zeros(64,64)\n",
    "    # Since we are using Triangle network we have to make certain changes due to constraints\n",
    "    for i in range(64):\n",
    "        for j in range(64):\n",
    "            si = \"{0:06b}\".format(i)\n",
    "            sj = \"{0:06b}\".format(j)\n",
    "            '''\n",
    "            listsi = list(si)\n",
    "            listsi[4] = list(si)[5]\n",
    "            listsi[2] = list(si)[0]\n",
    "            listsi[0] = list(si)[1]\n",
    "            listsi[1] = list(si)[2]\n",
    "            listsi[5] = list(si)[3]\n",
    "            listsi[3] = list(si)[4]\n",
    "\n",
    "            listsj = list(sj)\n",
    "            listsj[4] = list(sj)[5]\n",
    "            listsj[2] = list(sj)[0]\n",
    "            listsj[0] = list(sj)[1]\n",
    "            listsj[1] = list(sj)[2]\n",
    "            listsj[5] = list(sj)[3]\n",
    "            listsj[3] = list(sj)[4]\n",
    "            '''  \n",
    "            listsi = list(si)\n",
    "            listsi[1] = list(si)[0]\n",
    "            listsi[2] = list(si)[1]\n",
    "            listsi[3] = list(si)[2]\n",
    "            listsi[4] = list(si)[3]\n",
    "            listsi[5] = list(si)[4]\n",
    "            listsi[0] = list(si)[5]\n",
    "\n",
    "            listsj = list(sj)\n",
    "            listsj[1] = list(sj)[0]\n",
    "            listsj[2] = list(sj)[1]\n",
    "            listsj[3] = list(sj)[2]\n",
    "            listsj[4] = list(sj)[3]\n",
    "            listsj[5] = list(sj)[4]\n",
    "            listsj[0] = list(sj)[5]    \n",
    "\n",
    "            MT[int(''.join(listsi),2),int(''.join(listsj),2)] = MMM[i,j]\n",
    "    return MT\n",
    "\n",
    "MT1 = TriBasisCorr(MMM1)\n",
    "MT2 = TriBasisCorr(MMM2)\n",
    "MT3 = TriBasisCorr(MMM3)\n",
    "\n",
    "# This is the Renou measurement setting when used give the Renou distribution\n",
    "Ma = Matrix([[0,sqrt(1-w*w),-w,0]])\n",
    "Mb = Matrix([[0,w,sqrt(1-w*w),0]])\n",
    "Mc = Matrix([[u,0,0,sqrt(1-u*u)]])\n",
    "Md = Matrix([[sqrt(1-u*u),0,0,-u]])\n",
    "Mat = Matrix([0,sqrt(1-w*w),-w,0])\n",
    "Mbt = Matrix([0,w,sqrt(1-w*w),0])\n",
    "Mct = Matrix([u,0,0,sqrt(1-u*u)])\n",
    "Mdt = Matrix([sqrt(1-u*u),0,0,-u])\n",
    "\n",
    "\n",
    "Mabcd = [Ma,Mb,Mc,Md]\n",
    "MTabcd = [Mat,Mbt,Mct,Mdt]"
   ]
  },
  {
   "cell_type": "code",
   "execution_count": 295,
   "id": "d86c7014-ec57-45fe-b038-7c29c30188ba",
   "metadata": {},
   "outputs": [],
   "source": [
    "#MT3.subs(v,1)"
   ]
  },
  {
   "cell_type": "code",
   "execution_count": 297,
   "id": "e292c567-f7ca-4952-a52d-ce1c644d2be9",
   "metadata": {
    "tags": []
   },
   "outputs": [
    {
     "data": {
      "text/latex": [
       "$\\displaystyle \\left[\\begin{matrix}0 & 0 & 0 & 0\\\\0 & 1 - w^{2} & - w \\sqrt{1 - w^{2}} & 0\\\\0 & - w \\sqrt{1 - w^{2}} & w^{2} & 0\\\\0 & 0 & 0 & 0\\end{matrix}\\right]$"
      ],
      "text/plain": [
       "Matrix([\n",
       "[0,                 0,                 0, 0],\n",
       "[0,          1 - w**2, -w*sqrt(1 - w**2), 0],\n",
       "[0, -w*sqrt(1 - w**2),              w**2, 0],\n",
       "[0,                 0,                 0, 0]])"
      ]
     },
     "execution_count": 297,
     "metadata": {},
     "output_type": "execute_result"
    }
   ],
   "source": [
    "MTabcd[0]*Mabcd[0]"
   ]
  },
  {
   "cell_type": "code",
   "execution_count": 299,
   "id": "743c413a-94b3-4101-8d3e-186fae703763",
   "metadata": {
    "tags": []
   },
   "outputs": [
    {
     "data": {
      "text/latex": [
       "$\\displaystyle \\left[\\begin{matrix}0 & 0 & 0 & 0\\\\0 & w^{2} & w \\sqrt{1 - w^{2}} & 0\\\\0 & w \\sqrt{1 - w^{2}} & 1 - w^{2} & 0\\\\0 & 0 & 0 & 0\\end{matrix}\\right]$"
      ],
      "text/plain": [
       "Matrix([\n",
       "[0,                0,                0, 0],\n",
       "[0,             w**2, w*sqrt(1 - w**2), 0],\n",
       "[0, w*sqrt(1 - w**2),         1 - w**2, 0],\n",
       "[0,                0,                0, 0]])"
      ]
     },
     "execution_count": 299,
     "metadata": {},
     "output_type": "execute_result"
    }
   ],
   "source": [
    "MTabcd[1]*Mabcd[1]"
   ]
  },
  {
   "cell_type": "code",
   "execution_count": 301,
   "id": "194a7d0a-7d77-41aa-a307-fd0cf5a1ce9c",
   "metadata": {
    "tags": []
   },
   "outputs": [
    {
     "data": {
      "text/latex": [
       "$\\displaystyle \\left[\\begin{matrix}u^{2} & 0 & 0 & u \\sqrt{1 - u^{2}}\\\\0 & 0 & 0 & 0\\\\0 & 0 & 0 & 0\\\\u \\sqrt{1 - u^{2}} & 0 & 0 & 1 - u^{2}\\end{matrix}\\right]$"
      ],
      "text/plain": [
       "Matrix([\n",
       "[            u**2, 0, 0, u*sqrt(1 - u**2)],\n",
       "[               0, 0, 0,                0],\n",
       "[               0, 0, 0,                0],\n",
       "[u*sqrt(1 - u**2), 0, 0,         1 - u**2]])"
      ]
     },
     "execution_count": 301,
     "metadata": {},
     "output_type": "execute_result"
    }
   ],
   "source": [
    "MTabcd[2]*Mabcd[2]"
   ]
  },
  {
   "cell_type": "code",
   "execution_count": 303,
   "id": "38d60db6-dc74-4e7c-af29-c1697c9d3bb9",
   "metadata": {
    "tags": []
   },
   "outputs": [
    {
     "data": {
      "text/latex": [
       "$\\displaystyle \\left[\\begin{matrix}1 - u^{2} & 0 & 0 & - u \\sqrt{1 - u^{2}}\\\\0 & 0 & 0 & 0\\\\0 & 0 & 0 & 0\\\\- u \\sqrt{1 - u^{2}} & 0 & 0 & u^{2}\\end{matrix}\\right]$"
      ],
      "text/plain": [
       "Matrix([\n",
       "[         1 - u**2, 0, 0, -u*sqrt(1 - u**2)],\n",
       "[                0, 0, 0,                 0],\n",
       "[                0, 0, 0,                 0],\n",
       "[-u*sqrt(1 - u**2), 0, 0,              u**2]])"
      ]
     },
     "execution_count": 303,
     "metadata": {},
     "output_type": "execute_result"
    }
   ],
   "source": [
    "MTabcd[3]*Mabcd[3]"
   ]
  },
  {
   "cell_type": "code",
   "execution_count": 345,
   "id": "2f7aa1b0-ee54-43e1-b0e3-f7d20839b5a2",
   "metadata": {},
   "outputs": [],
   "source": [
    "def distribution_gen(MT,parameter1, parameter2, parameter3):\n",
    "    \"\"\" parameter1 is usually a parameter of distribution (not always relevant). parameter2 is usually noise.\"\"\"\n",
    "\n",
    "\n",
    "    \"\"\" Info: If param_c >~ 0.886 or <~0.464, there is no classical 3-local model.\"\"\"\n",
    "    \"\"\" In terms of c**2: above 0.785 or below 0.215 no classical 3-local model.\"\"\"\n",
    "        \n",
    "    MeasRes = []\n",
    "    for i in range(4):\n",
    "        for j in range(4):\n",
    "            for k in range(4):\n",
    "                Proj = TensorProduct(TensorProduct(MTabcd[i]*Mabcd[i],MTabcd[j]*Mabcd[j]),MTabcd[k]*Mabcd[k])\n",
    "                Meas = np.trace(Proj*MT)\n",
    "                #print(Meas)\n",
    "            \n",
    "                Meas = Meas.subs(u,parameter1)\n",
    "                Meas = Meas.subs(v,parameter2)\n",
    "                Meas = Meas.subs(w,parameter3)\n",
    "                MeasStr = str(Meas)\n",
    "                MeasStr = MeasStr.replace('Matrix([[','')\n",
    "                MeasStr = MeasStr.replace(']])','')\n",
    "            \n",
    "            \n",
    "                MeasRes.append(MeasStr)\n",
    "            \n",
    "\n",
    "    for x in range(64):\n",
    "        MeasRes[x] = float(MeasRes[x])\n",
    "        \n",
    "    MeasArr = np.array(MeasRes)\n",
    "        \n",
    "    p = MeasArr\n",
    "\n",
    "    return p"
   ]
  },
  {
   "cell_type": "code",
   "execution_count": 347,
   "id": "28fcc4fc-3042-4b4d-88c0-64ddb6517b87",
   "metadata": {
    "tags": []
   },
   "outputs": [
    {
     "data": {
      "text/plain": [
       "array([0.015625, 0.015625, 0.015625, 0.015625, 0.015625, 0.015625,\n",
       "       0.015625, 0.015625, 0.015625, 0.015625, 0.015625, 0.015625,\n",
       "       0.015625, 0.015625, 0.015625, 0.015625, 0.015625, 0.015625,\n",
       "       0.015625, 0.015625, 0.015625, 0.015625, 0.015625, 0.015625,\n",
       "       0.015625, 0.015625, 0.015625, 0.015625, 0.015625, 0.015625,\n",
       "       0.015625, 0.015625, 0.015625, 0.015625, 0.015625, 0.015625,\n",
       "       0.015625, 0.015625, 0.015625, 0.015625, 0.015625, 0.015625,\n",
       "       0.015625, 0.015625, 0.015625, 0.015625, 0.015625, 0.015625,\n",
       "       0.015625, 0.015625, 0.015625, 0.015625, 0.015625, 0.015625,\n",
       "       0.015625, 0.015625, 0.015625, 0.015625, 0.015625, 0.015625,\n",
       "       0.015625, 0.015625, 0.015625, 0.015625])"
      ]
     },
     "execution_count": 347,
     "metadata": {},
     "output_type": "execute_result"
    }
   ],
   "source": [
    "distribution_gen(MT3,0.85, 1, 0.55)#(u,v,w)"
   ]
  },
  {
   "cell_type": "code",
   "execution_count": 348,
   "id": "7662dab0-bb03-41e4-8f40-b859e439d91c",
   "metadata": {
    "tags": []
   },
   "outputs": [
    {
     "data": {
      "text/plain": [
       "array([0.        , 0.        , 0.02637422, 0.02637422, 0.        ,\n",
       "       0.        , 0.04711172, 0.02513984, 0.02637422, 0.02513984,\n",
       "       0.        , 0.        , 0.02637422, 0.04711172, 0.        ,\n",
       "       0.        , 0.        , 0.        , 0.02513984, 0.04711172,\n",
       "       0.        , 0.        , 0.02637422, 0.02637422, 0.04711172,\n",
       "       0.02637422, 0.        , 0.        , 0.02513984, 0.02637422,\n",
       "       0.        , 0.        , 0.02637422, 0.04711172, 0.        ,\n",
       "       0.        , 0.02513984, 0.02637422, 0.        , 0.        ,\n",
       "       0.        , 0.        , 0.04981484, 0.02506172, 0.        ,\n",
       "       0.        , 0.02506172, 0.02506172, 0.02637422, 0.02513984,\n",
       "       0.        , 0.        , 0.04711172, 0.02637422, 0.        ,\n",
       "       0.        , 0.        , 0.        , 0.02506172, 0.02506172,\n",
       "       0.        , 0.        , 0.02506172, 0.04981484])"
      ]
     },
     "execution_count": 348,
     "metadata": {},
     "output_type": "execute_result"
    }
   ],
   "source": [
    "distribution_gen(MT2,0.85, 1, 0.55)#(u,v,w)"
   ]
  },
  {
   "cell_type": "code",
   "execution_count": 349,
   "id": "f8a8cdec-41e9-4a4c-a6d6-c1dfbcaf0fac",
   "metadata": {
    "tags": []
   },
   "outputs": [
    {
     "data": {
      "text/plain": [
       "array([0.        , 0.        , 0.04999314, 0.0027553 , 0.        ,\n",
       "       0.        , 0.0234928 , 0.04875876, 0.04999314, 0.00152092,\n",
       "       0.        , 0.        , 0.0027553 , 0.07073064, 0.        ,\n",
       "       0.        , 0.        , 0.        , 0.00152092, 0.07073064,\n",
       "       0.        , 0.        , 0.04999314, 0.0027553 , 0.0234928 ,\n",
       "       0.04999314, 0.        , 0.        , 0.04875876, 0.0027553 ,\n",
       "       0.        , 0.        , 0.04999314, 0.0234928 , 0.        ,\n",
       "       0.        , 0.00152092, 0.04999314, 0.        , 0.        ,\n",
       "       0.        , 0.        , 0.07225838, 0.00261818, 0.        ,\n",
       "       0.        , 0.00261818, 0.04750525, 0.0027553 , 0.04875876,\n",
       "       0.        , 0.        , 0.07073064, 0.0027553 , 0.        ,\n",
       "       0.        , 0.        , 0.        , 0.00261818, 0.04750525,\n",
       "       0.        , 0.        , 0.04750525, 0.02737131])"
      ]
     },
     "execution_count": 349,
     "metadata": {},
     "output_type": "execute_result"
    }
   ],
   "source": [
    "distribution_gen(MT1,0.85, 1, 0.55)#(u,v,w)"
   ]
  },
  {
   "cell_type": "code",
   "execution_count": 602,
   "id": "b99f1c42-abda-45d5-8230-765f01d56711",
   "metadata": {},
   "outputs": [],
   "source": [
    "inputsize = 3 # Number of hidden variables, i.e. alpha, beta, gamma\n",
    "a_outputsize = 4 # Number of outputs for Alice\n",
    "b_outputsize = 4 # Number of outputs for Bob\n",
    "c_outputsize = 4 # Number of outputs for Charlie\n",
    "\n",
    "greek_depth = 5\n",
    "greek_width = 30\n",
    "activ = 'relu'\n",
    "activ2 = 'softmax'\n",
    "kernel_reg = None\n",
    "latin_depth = 5\n",
    "latin_width = 30\n",
    "\n",
    "batch_size = 800\n",
    "no_of_batches = 1000 # How many batches to go through during training.\n",
    "weight_init_scaling = 10 #10 #2 # default is 1. Set to larger values to get more variance in initial weights.\n",
    "Optimizer = 'adadelta'\n",
    "lr = 0.36\n",
    "decay = 0.001\n",
    "momentum = 0.25\n",
    "loss = 'kl'\n",
    "\n",
    "transfer = False\n",
    "no_of_validation_batches = 100"
   ]
  },
  {
   "cell_type": "code",
   "execution_count": null,
   "id": "a0e3aa52-bb1a-4a68-87f6-24fed8e3fd64",
   "metadata": {},
   "outputs": [],
   "source": []
  },
  {
   "cell_type": "code",
   "execution_count": 605,
   "id": "878d4c36-c296-4ced-a6a0-8ad21feb50fa",
   "metadata": {},
   "outputs": [],
   "source": [
    "def NN():\n",
    "    \"\"\" Build NN for triangle \"\"\"\n",
    "    # Hidden variables as inputs.\n",
    "    inputTensor = Input((inputsize,))\n",
    "\n",
    "    # Group input tensor according to whether alpha, beta or gamma hidden variable.\n",
    "    group_alpha = Lambda(lambda x: x[:,:1], output_shape=((1,)))(inputTensor)\n",
    "    group_beta = Lambda(lambda x: x[:,1:2], output_shape=((1,)))(inputTensor)\n",
    "    group_gamma = Lambda(lambda x: x[:,2:3], output_shape=((1,)))(inputTensor)\n",
    "\n",
    "    # Neural network at the sources, for pre-processing (e.g. for going from uniform distribution to non-uniform one)\n",
    "    ## Note that in the example code greek_depth is set to 0, so this part is trivial.\n",
    "    for _ in range(greek_depth):\n",
    "        group_alpha = Dense(greek_width,activation=activ, kernel_regularizer=kernel_reg,trainable=bool(transfer==False))(group_alpha)\n",
    "        group_beta = Dense(greek_width,activation=activ, kernel_regularizer=kernel_reg,trainable=bool(transfer==False))(group_beta)\n",
    "        group_gamma = Dense(greek_width,activation=activ, kernel_regularizer=kernel_reg,trainable=bool(transfer==False))(group_gamma)\n",
    "\n",
    "    # Route hidden variables to visibile parties Alice, Bob and Charlie\n",
    "    group_a = Concatenate()([group_beta,group_gamma])\n",
    "    group_b = Concatenate()([group_gamma,group_alpha])\n",
    "    group_c = Concatenate()([group_alpha,group_beta])\n",
    "\n",
    "    # Neural network at the parties Alice, Bob and Charlie.\n",
    "    ## Note: increasing the variance of the initialization seemed to help in some cases, especially when the number if outputs per party is 4 or more.\n",
    "    kernel_init = tf.keras.initializers.VarianceScaling(scale=weight_init_scaling, mode='fan_in', distribution='truncated_normal', seed=None)\n",
    "\n",
    "    for _ in range(latin_depth):\n",
    "        group_a = Dense(latin_width,activation=activ, kernel_regularizer=kernel_reg, kernel_initializer = kernel_init,trainable=bool(transfer==False))(group_a)\n",
    "        group_b = Dense(latin_width,activation=activ, kernel_regularizer=kernel_reg, kernel_initializer = kernel_init,trainable=bool(transfer==False))(group_b)\n",
    "        group_c = Dense(latin_width,activation=activ, kernel_regularizer=kernel_reg, kernel_initializer = kernel_init,trainable=bool(transfer==False))(group_c)\n",
    "\n",
    "    # Apply final softmax layer\n",
    "    group_a = Dense(a_outputsize,activation=activ2, kernel_regularizer=kernel_reg)(group_a)\n",
    "    group_b = Dense(b_outputsize,activation=activ2, kernel_regularizer=kernel_reg)(group_b)\n",
    "    group_c = Dense(c_outputsize,activation=activ2, kernel_regularizer=kernel_reg)(group_c)\n",
    "\n",
    "    outputTensor = Concatenate()([group_a,group_b,group_c])\n",
    "\n",
    "    model = Model(inputTensor,outputTensor)\n",
    "    \n",
    "    return model\n",
    "\n",
    "model1 = NN()\n",
    "model2 = NN()\n",
    "model3 = NN()"
   ]
  },
  {
   "cell_type": "code",
   "execution_count": 606,
   "id": "44c0f898-3c58-4e37-825d-3dce6826ea96",
   "metadata": {},
   "outputs": [
    {
     "data": {
      "text/html": [
       "<pre style=\"white-space:pre;overflow-x:auto;line-height:normal;font-family:Menlo,'DejaVu Sans Mono',consolas,'Courier New',monospace\"><span style=\"font-weight: bold\">Model: \"functional_75\"</span>\n",
       "</pre>\n"
      ],
      "text/plain": [
       "\u001b[1mModel: \"functional_75\"\u001b[0m\n"
      ]
     },
     "metadata": {},
     "output_type": "display_data"
    },
    {
     "data": {
      "text/html": [
       "<pre style=\"white-space:pre;overflow-x:auto;line-height:normal;font-family:Menlo,'DejaVu Sans Mono',consolas,'Courier New',monospace\">┏━━━━━━━━━━━━━━━━━━━━━━━━━━━━━━━┳━━━━━━━━━━━━━━━━━━━━━━━━━━━┳━━━━━━━━━━━━━━━━━┳━━━━━━━━━━━━━━━━━━━━━━━━━━━━┓\n",
       "┃<span style=\"font-weight: bold\"> Layer (type)                  </span>┃<span style=\"font-weight: bold\"> Output Shape              </span>┃<span style=\"font-weight: bold\">         Param # </span>┃<span style=\"font-weight: bold\"> Connected to               </span>┃\n",
       "┡━━━━━━━━━━━━━━━━━━━━━━━━━━━━━━━╇━━━━━━━━━━━━━━━━━━━━━━━━━━━╇━━━━━━━━━━━━━━━━━╇━━━━━━━━━━━━━━━━━━━━━━━━━━━━┩\n",
       "│ input_layer_37 (<span style=\"color: #0087ff; text-decoration-color: #0087ff\">InputLayer</span>)   │ (<span style=\"color: #00d7ff; text-decoration-color: #00d7ff\">None</span>, <span style=\"color: #00af00; text-decoration-color: #00af00\">3</span>)                 │               <span style=\"color: #00af00; text-decoration-color: #00af00\">0</span> │ -                          │\n",
       "├───────────────────────────────┼───────────────────────────┼─────────────────┼────────────────────────────┤\n",
       "│ lambda_112 (<span style=\"color: #0087ff; text-decoration-color: #0087ff\">Lambda</span>)           │ (<span style=\"color: #00d7ff; text-decoration-color: #00d7ff\">None</span>, <span style=\"color: #00af00; text-decoration-color: #00af00\">1</span>)                 │               <span style=\"color: #00af00; text-decoration-color: #00af00\">0</span> │ input_layer_37[<span style=\"color: #00af00; text-decoration-color: #00af00\">0</span>][<span style=\"color: #00af00; text-decoration-color: #00af00\">0</span>]       │\n",
       "├───────────────────────────────┼───────────────────────────┼─────────────────┼────────────────────────────┤\n",
       "│ lambda_113 (<span style=\"color: #0087ff; text-decoration-color: #0087ff\">Lambda</span>)           │ (<span style=\"color: #00d7ff; text-decoration-color: #00d7ff\">None</span>, <span style=\"color: #00af00; text-decoration-color: #00af00\">1</span>)                 │               <span style=\"color: #00af00; text-decoration-color: #00af00\">0</span> │ input_layer_37[<span style=\"color: #00af00; text-decoration-color: #00af00\">0</span>][<span style=\"color: #00af00; text-decoration-color: #00af00\">0</span>]       │\n",
       "├───────────────────────────────┼───────────────────────────┼─────────────────┼────────────────────────────┤\n",
       "│ lambda_111 (<span style=\"color: #0087ff; text-decoration-color: #0087ff\">Lambda</span>)           │ (<span style=\"color: #00d7ff; text-decoration-color: #00d7ff\">None</span>, <span style=\"color: #00af00; text-decoration-color: #00af00\">1</span>)                 │               <span style=\"color: #00af00; text-decoration-color: #00af00\">0</span> │ input_layer_37[<span style=\"color: #00af00; text-decoration-color: #00af00\">0</span>][<span style=\"color: #00af00; text-decoration-color: #00af00\">0</span>]       │\n",
       "├───────────────────────────────┼───────────────────────────┼─────────────────┼────────────────────────────┤\n",
       "│ dense_1222 (<span style=\"color: #0087ff; text-decoration-color: #0087ff\">Dense</span>)            │ (<span style=\"color: #00d7ff; text-decoration-color: #00d7ff\">None</span>, <span style=\"color: #00af00; text-decoration-color: #00af00\">30</span>)                │              <span style=\"color: #00af00; text-decoration-color: #00af00\">60</span> │ lambda_112[<span style=\"color: #00af00; text-decoration-color: #00af00\">0</span>][<span style=\"color: #00af00; text-decoration-color: #00af00\">0</span>]           │\n",
       "├───────────────────────────────┼───────────────────────────┼─────────────────┼────────────────────────────┤\n",
       "│ dense_1223 (<span style=\"color: #0087ff; text-decoration-color: #0087ff\">Dense</span>)            │ (<span style=\"color: #00d7ff; text-decoration-color: #00d7ff\">None</span>, <span style=\"color: #00af00; text-decoration-color: #00af00\">30</span>)                │              <span style=\"color: #00af00; text-decoration-color: #00af00\">60</span> │ lambda_113[<span style=\"color: #00af00; text-decoration-color: #00af00\">0</span>][<span style=\"color: #00af00; text-decoration-color: #00af00\">0</span>]           │\n",
       "├───────────────────────────────┼───────────────────────────┼─────────────────┼────────────────────────────┤\n",
       "│ dense_1221 (<span style=\"color: #0087ff; text-decoration-color: #0087ff\">Dense</span>)            │ (<span style=\"color: #00d7ff; text-decoration-color: #00d7ff\">None</span>, <span style=\"color: #00af00; text-decoration-color: #00af00\">30</span>)                │              <span style=\"color: #00af00; text-decoration-color: #00af00\">60</span> │ lambda_111[<span style=\"color: #00af00; text-decoration-color: #00af00\">0</span>][<span style=\"color: #00af00; text-decoration-color: #00af00\">0</span>]           │\n",
       "├───────────────────────────────┼───────────────────────────┼─────────────────┼────────────────────────────┤\n",
       "│ dense_1225 (<span style=\"color: #0087ff; text-decoration-color: #0087ff\">Dense</span>)            │ (<span style=\"color: #00d7ff; text-decoration-color: #00d7ff\">None</span>, <span style=\"color: #00af00; text-decoration-color: #00af00\">30</span>)                │             <span style=\"color: #00af00; text-decoration-color: #00af00\">930</span> │ dense_1222[<span style=\"color: #00af00; text-decoration-color: #00af00\">0</span>][<span style=\"color: #00af00; text-decoration-color: #00af00\">0</span>]           │\n",
       "├───────────────────────────────┼───────────────────────────┼─────────────────┼────────────────────────────┤\n",
       "│ dense_1226 (<span style=\"color: #0087ff; text-decoration-color: #0087ff\">Dense</span>)            │ (<span style=\"color: #00d7ff; text-decoration-color: #00d7ff\">None</span>, <span style=\"color: #00af00; text-decoration-color: #00af00\">30</span>)                │             <span style=\"color: #00af00; text-decoration-color: #00af00\">930</span> │ dense_1223[<span style=\"color: #00af00; text-decoration-color: #00af00\">0</span>][<span style=\"color: #00af00; text-decoration-color: #00af00\">0</span>]           │\n",
       "├───────────────────────────────┼───────────────────────────┼─────────────────┼────────────────────────────┤\n",
       "│ dense_1224 (<span style=\"color: #0087ff; text-decoration-color: #0087ff\">Dense</span>)            │ (<span style=\"color: #00d7ff; text-decoration-color: #00d7ff\">None</span>, <span style=\"color: #00af00; text-decoration-color: #00af00\">30</span>)                │             <span style=\"color: #00af00; text-decoration-color: #00af00\">930</span> │ dense_1221[<span style=\"color: #00af00; text-decoration-color: #00af00\">0</span>][<span style=\"color: #00af00; text-decoration-color: #00af00\">0</span>]           │\n",
       "├───────────────────────────────┼───────────────────────────┼─────────────────┼────────────────────────────┤\n",
       "│ dense_1228 (<span style=\"color: #0087ff; text-decoration-color: #0087ff\">Dense</span>)            │ (<span style=\"color: #00d7ff; text-decoration-color: #00d7ff\">None</span>, <span style=\"color: #00af00; text-decoration-color: #00af00\">30</span>)                │             <span style=\"color: #00af00; text-decoration-color: #00af00\">930</span> │ dense_1225[<span style=\"color: #00af00; text-decoration-color: #00af00\">0</span>][<span style=\"color: #00af00; text-decoration-color: #00af00\">0</span>]           │\n",
       "├───────────────────────────────┼───────────────────────────┼─────────────────┼────────────────────────────┤\n",
       "│ dense_1229 (<span style=\"color: #0087ff; text-decoration-color: #0087ff\">Dense</span>)            │ (<span style=\"color: #00d7ff; text-decoration-color: #00d7ff\">None</span>, <span style=\"color: #00af00; text-decoration-color: #00af00\">30</span>)                │             <span style=\"color: #00af00; text-decoration-color: #00af00\">930</span> │ dense_1226[<span style=\"color: #00af00; text-decoration-color: #00af00\">0</span>][<span style=\"color: #00af00; text-decoration-color: #00af00\">0</span>]           │\n",
       "├───────────────────────────────┼───────────────────────────┼─────────────────┼────────────────────────────┤\n",
       "│ dense_1227 (<span style=\"color: #0087ff; text-decoration-color: #0087ff\">Dense</span>)            │ (<span style=\"color: #00d7ff; text-decoration-color: #00d7ff\">None</span>, <span style=\"color: #00af00; text-decoration-color: #00af00\">30</span>)                │             <span style=\"color: #00af00; text-decoration-color: #00af00\">930</span> │ dense_1224[<span style=\"color: #00af00; text-decoration-color: #00af00\">0</span>][<span style=\"color: #00af00; text-decoration-color: #00af00\">0</span>]           │\n",
       "├───────────────────────────────┼───────────────────────────┼─────────────────┼────────────────────────────┤\n",
       "│ dense_1231 (<span style=\"color: #0087ff; text-decoration-color: #0087ff\">Dense</span>)            │ (<span style=\"color: #00d7ff; text-decoration-color: #00d7ff\">None</span>, <span style=\"color: #00af00; text-decoration-color: #00af00\">30</span>)                │             <span style=\"color: #00af00; text-decoration-color: #00af00\">930</span> │ dense_1228[<span style=\"color: #00af00; text-decoration-color: #00af00\">0</span>][<span style=\"color: #00af00; text-decoration-color: #00af00\">0</span>]           │\n",
       "├───────────────────────────────┼───────────────────────────┼─────────────────┼────────────────────────────┤\n",
       "│ dense_1232 (<span style=\"color: #0087ff; text-decoration-color: #0087ff\">Dense</span>)            │ (<span style=\"color: #00d7ff; text-decoration-color: #00d7ff\">None</span>, <span style=\"color: #00af00; text-decoration-color: #00af00\">30</span>)                │             <span style=\"color: #00af00; text-decoration-color: #00af00\">930</span> │ dense_1229[<span style=\"color: #00af00; text-decoration-color: #00af00\">0</span>][<span style=\"color: #00af00; text-decoration-color: #00af00\">0</span>]           │\n",
       "├───────────────────────────────┼───────────────────────────┼─────────────────┼────────────────────────────┤\n",
       "│ dense_1230 (<span style=\"color: #0087ff; text-decoration-color: #0087ff\">Dense</span>)            │ (<span style=\"color: #00d7ff; text-decoration-color: #00d7ff\">None</span>, <span style=\"color: #00af00; text-decoration-color: #00af00\">30</span>)                │             <span style=\"color: #00af00; text-decoration-color: #00af00\">930</span> │ dense_1227[<span style=\"color: #00af00; text-decoration-color: #00af00\">0</span>][<span style=\"color: #00af00; text-decoration-color: #00af00\">0</span>]           │\n",
       "├───────────────────────────────┼───────────────────────────┼─────────────────┼────────────────────────────┤\n",
       "│ dense_1234 (<span style=\"color: #0087ff; text-decoration-color: #0087ff\">Dense</span>)            │ (<span style=\"color: #00d7ff; text-decoration-color: #00d7ff\">None</span>, <span style=\"color: #00af00; text-decoration-color: #00af00\">30</span>)                │             <span style=\"color: #00af00; text-decoration-color: #00af00\">930</span> │ dense_1231[<span style=\"color: #00af00; text-decoration-color: #00af00\">0</span>][<span style=\"color: #00af00; text-decoration-color: #00af00\">0</span>]           │\n",
       "├───────────────────────────────┼───────────────────────────┼─────────────────┼────────────────────────────┤\n",
       "│ dense_1235 (<span style=\"color: #0087ff; text-decoration-color: #0087ff\">Dense</span>)            │ (<span style=\"color: #00d7ff; text-decoration-color: #00d7ff\">None</span>, <span style=\"color: #00af00; text-decoration-color: #00af00\">30</span>)                │             <span style=\"color: #00af00; text-decoration-color: #00af00\">930</span> │ dense_1232[<span style=\"color: #00af00; text-decoration-color: #00af00\">0</span>][<span style=\"color: #00af00; text-decoration-color: #00af00\">0</span>]           │\n",
       "├───────────────────────────────┼───────────────────────────┼─────────────────┼────────────────────────────┤\n",
       "│ dense_1233 (<span style=\"color: #0087ff; text-decoration-color: #0087ff\">Dense</span>)            │ (<span style=\"color: #00d7ff; text-decoration-color: #00d7ff\">None</span>, <span style=\"color: #00af00; text-decoration-color: #00af00\">30</span>)                │             <span style=\"color: #00af00; text-decoration-color: #00af00\">930</span> │ dense_1230[<span style=\"color: #00af00; text-decoration-color: #00af00\">0</span>][<span style=\"color: #00af00; text-decoration-color: #00af00\">0</span>]           │\n",
       "├───────────────────────────────┼───────────────────────────┼─────────────────┼────────────────────────────┤\n",
       "│ concatenate_148 (<span style=\"color: #0087ff; text-decoration-color: #0087ff\">Concatenate</span>) │ (<span style=\"color: #00d7ff; text-decoration-color: #00d7ff\">None</span>, <span style=\"color: #00af00; text-decoration-color: #00af00\">60</span>)                │               <span style=\"color: #00af00; text-decoration-color: #00af00\">0</span> │ dense_1234[<span style=\"color: #00af00; text-decoration-color: #00af00\">0</span>][<span style=\"color: #00af00; text-decoration-color: #00af00\">0</span>],          │\n",
       "│                               │                           │                 │ dense_1235[<span style=\"color: #00af00; text-decoration-color: #00af00\">0</span>][<span style=\"color: #00af00; text-decoration-color: #00af00\">0</span>]           │\n",
       "├───────────────────────────────┼───────────────────────────┼─────────────────┼────────────────────────────┤\n",
       "│ concatenate_149 (<span style=\"color: #0087ff; text-decoration-color: #0087ff\">Concatenate</span>) │ (<span style=\"color: #00d7ff; text-decoration-color: #00d7ff\">None</span>, <span style=\"color: #00af00; text-decoration-color: #00af00\">60</span>)                │               <span style=\"color: #00af00; text-decoration-color: #00af00\">0</span> │ dense_1235[<span style=\"color: #00af00; text-decoration-color: #00af00\">0</span>][<span style=\"color: #00af00; text-decoration-color: #00af00\">0</span>],          │\n",
       "│                               │                           │                 │ dense_1233[<span style=\"color: #00af00; text-decoration-color: #00af00\">0</span>][<span style=\"color: #00af00; text-decoration-color: #00af00\">0</span>]           │\n",
       "├───────────────────────────────┼───────────────────────────┼─────────────────┼────────────────────────────┤\n",
       "│ concatenate_150 (<span style=\"color: #0087ff; text-decoration-color: #0087ff\">Concatenate</span>) │ (<span style=\"color: #00d7ff; text-decoration-color: #00d7ff\">None</span>, <span style=\"color: #00af00; text-decoration-color: #00af00\">60</span>)                │               <span style=\"color: #00af00; text-decoration-color: #00af00\">0</span> │ dense_1233[<span style=\"color: #00af00; text-decoration-color: #00af00\">0</span>][<span style=\"color: #00af00; text-decoration-color: #00af00\">0</span>],          │\n",
       "│                               │                           │                 │ dense_1234[<span style=\"color: #00af00; text-decoration-color: #00af00\">0</span>][<span style=\"color: #00af00; text-decoration-color: #00af00\">0</span>]           │\n",
       "├───────────────────────────────┼───────────────────────────┼─────────────────┼────────────────────────────┤\n",
       "│ dense_1236 (<span style=\"color: #0087ff; text-decoration-color: #0087ff\">Dense</span>)            │ (<span style=\"color: #00d7ff; text-decoration-color: #00d7ff\">None</span>, <span style=\"color: #00af00; text-decoration-color: #00af00\">30</span>)                │           <span style=\"color: #00af00; text-decoration-color: #00af00\">1,830</span> │ concatenate_148[<span style=\"color: #00af00; text-decoration-color: #00af00\">0</span>][<span style=\"color: #00af00; text-decoration-color: #00af00\">0</span>]      │\n",
       "├───────────────────────────────┼───────────────────────────┼─────────────────┼────────────────────────────┤\n",
       "│ dense_1237 (<span style=\"color: #0087ff; text-decoration-color: #0087ff\">Dense</span>)            │ (<span style=\"color: #00d7ff; text-decoration-color: #00d7ff\">None</span>, <span style=\"color: #00af00; text-decoration-color: #00af00\">30</span>)                │           <span style=\"color: #00af00; text-decoration-color: #00af00\">1,830</span> │ concatenate_149[<span style=\"color: #00af00; text-decoration-color: #00af00\">0</span>][<span style=\"color: #00af00; text-decoration-color: #00af00\">0</span>]      │\n",
       "├───────────────────────────────┼───────────────────────────┼─────────────────┼────────────────────────────┤\n",
       "│ dense_1238 (<span style=\"color: #0087ff; text-decoration-color: #0087ff\">Dense</span>)            │ (<span style=\"color: #00d7ff; text-decoration-color: #00d7ff\">None</span>, <span style=\"color: #00af00; text-decoration-color: #00af00\">30</span>)                │           <span style=\"color: #00af00; text-decoration-color: #00af00\">1,830</span> │ concatenate_150[<span style=\"color: #00af00; text-decoration-color: #00af00\">0</span>][<span style=\"color: #00af00; text-decoration-color: #00af00\">0</span>]      │\n",
       "├───────────────────────────────┼───────────────────────────┼─────────────────┼────────────────────────────┤\n",
       "│ dense_1239 (<span style=\"color: #0087ff; text-decoration-color: #0087ff\">Dense</span>)            │ (<span style=\"color: #00d7ff; text-decoration-color: #00d7ff\">None</span>, <span style=\"color: #00af00; text-decoration-color: #00af00\">30</span>)                │             <span style=\"color: #00af00; text-decoration-color: #00af00\">930</span> │ dense_1236[<span style=\"color: #00af00; text-decoration-color: #00af00\">0</span>][<span style=\"color: #00af00; text-decoration-color: #00af00\">0</span>]           │\n",
       "├───────────────────────────────┼───────────────────────────┼─────────────────┼────────────────────────────┤\n",
       "│ dense_1240 (<span style=\"color: #0087ff; text-decoration-color: #0087ff\">Dense</span>)            │ (<span style=\"color: #00d7ff; text-decoration-color: #00d7ff\">None</span>, <span style=\"color: #00af00; text-decoration-color: #00af00\">30</span>)                │             <span style=\"color: #00af00; text-decoration-color: #00af00\">930</span> │ dense_1237[<span style=\"color: #00af00; text-decoration-color: #00af00\">0</span>][<span style=\"color: #00af00; text-decoration-color: #00af00\">0</span>]           │\n",
       "├───────────────────────────────┼───────────────────────────┼─────────────────┼────────────────────────────┤\n",
       "│ dense_1241 (<span style=\"color: #0087ff; text-decoration-color: #0087ff\">Dense</span>)            │ (<span style=\"color: #00d7ff; text-decoration-color: #00d7ff\">None</span>, <span style=\"color: #00af00; text-decoration-color: #00af00\">30</span>)                │             <span style=\"color: #00af00; text-decoration-color: #00af00\">930</span> │ dense_1238[<span style=\"color: #00af00; text-decoration-color: #00af00\">0</span>][<span style=\"color: #00af00; text-decoration-color: #00af00\">0</span>]           │\n",
       "├───────────────────────────────┼───────────────────────────┼─────────────────┼────────────────────────────┤\n",
       "│ dense_1242 (<span style=\"color: #0087ff; text-decoration-color: #0087ff\">Dense</span>)            │ (<span style=\"color: #00d7ff; text-decoration-color: #00d7ff\">None</span>, <span style=\"color: #00af00; text-decoration-color: #00af00\">30</span>)                │             <span style=\"color: #00af00; text-decoration-color: #00af00\">930</span> │ dense_1239[<span style=\"color: #00af00; text-decoration-color: #00af00\">0</span>][<span style=\"color: #00af00; text-decoration-color: #00af00\">0</span>]           │\n",
       "├───────────────────────────────┼───────────────────────────┼─────────────────┼────────────────────────────┤\n",
       "│ dense_1243 (<span style=\"color: #0087ff; text-decoration-color: #0087ff\">Dense</span>)            │ (<span style=\"color: #00d7ff; text-decoration-color: #00d7ff\">None</span>, <span style=\"color: #00af00; text-decoration-color: #00af00\">30</span>)                │             <span style=\"color: #00af00; text-decoration-color: #00af00\">930</span> │ dense_1240[<span style=\"color: #00af00; text-decoration-color: #00af00\">0</span>][<span style=\"color: #00af00; text-decoration-color: #00af00\">0</span>]           │\n",
       "├───────────────────────────────┼───────────────────────────┼─────────────────┼────────────────────────────┤\n",
       "│ dense_1244 (<span style=\"color: #0087ff; text-decoration-color: #0087ff\">Dense</span>)            │ (<span style=\"color: #00d7ff; text-decoration-color: #00d7ff\">None</span>, <span style=\"color: #00af00; text-decoration-color: #00af00\">30</span>)                │             <span style=\"color: #00af00; text-decoration-color: #00af00\">930</span> │ dense_1241[<span style=\"color: #00af00; text-decoration-color: #00af00\">0</span>][<span style=\"color: #00af00; text-decoration-color: #00af00\">0</span>]           │\n",
       "├───────────────────────────────┼───────────────────────────┼─────────────────┼────────────────────────────┤\n",
       "│ dense_1245 (<span style=\"color: #0087ff; text-decoration-color: #0087ff\">Dense</span>)            │ (<span style=\"color: #00d7ff; text-decoration-color: #00d7ff\">None</span>, <span style=\"color: #00af00; text-decoration-color: #00af00\">30</span>)                │             <span style=\"color: #00af00; text-decoration-color: #00af00\">930</span> │ dense_1242[<span style=\"color: #00af00; text-decoration-color: #00af00\">0</span>][<span style=\"color: #00af00; text-decoration-color: #00af00\">0</span>]           │\n",
       "├───────────────────────────────┼───────────────────────────┼─────────────────┼────────────────────────────┤\n",
       "│ dense_1246 (<span style=\"color: #0087ff; text-decoration-color: #0087ff\">Dense</span>)            │ (<span style=\"color: #00d7ff; text-decoration-color: #00d7ff\">None</span>, <span style=\"color: #00af00; text-decoration-color: #00af00\">30</span>)                │             <span style=\"color: #00af00; text-decoration-color: #00af00\">930</span> │ dense_1243[<span style=\"color: #00af00; text-decoration-color: #00af00\">0</span>][<span style=\"color: #00af00; text-decoration-color: #00af00\">0</span>]           │\n",
       "├───────────────────────────────┼───────────────────────────┼─────────────────┼────────────────────────────┤\n",
       "│ dense_1247 (<span style=\"color: #0087ff; text-decoration-color: #0087ff\">Dense</span>)            │ (<span style=\"color: #00d7ff; text-decoration-color: #00d7ff\">None</span>, <span style=\"color: #00af00; text-decoration-color: #00af00\">30</span>)                │             <span style=\"color: #00af00; text-decoration-color: #00af00\">930</span> │ dense_1244[<span style=\"color: #00af00; text-decoration-color: #00af00\">0</span>][<span style=\"color: #00af00; text-decoration-color: #00af00\">0</span>]           │\n",
       "├───────────────────────────────┼───────────────────────────┼─────────────────┼────────────────────────────┤\n",
       "│ dense_1248 (<span style=\"color: #0087ff; text-decoration-color: #0087ff\">Dense</span>)            │ (<span style=\"color: #00d7ff; text-decoration-color: #00d7ff\">None</span>, <span style=\"color: #00af00; text-decoration-color: #00af00\">30</span>)                │             <span style=\"color: #00af00; text-decoration-color: #00af00\">930</span> │ dense_1245[<span style=\"color: #00af00; text-decoration-color: #00af00\">0</span>][<span style=\"color: #00af00; text-decoration-color: #00af00\">0</span>]           │\n",
       "├───────────────────────────────┼───────────────────────────┼─────────────────┼────────────────────────────┤\n",
       "│ dense_1249 (<span style=\"color: #0087ff; text-decoration-color: #0087ff\">Dense</span>)            │ (<span style=\"color: #00d7ff; text-decoration-color: #00d7ff\">None</span>, <span style=\"color: #00af00; text-decoration-color: #00af00\">30</span>)                │             <span style=\"color: #00af00; text-decoration-color: #00af00\">930</span> │ dense_1246[<span style=\"color: #00af00; text-decoration-color: #00af00\">0</span>][<span style=\"color: #00af00; text-decoration-color: #00af00\">0</span>]           │\n",
       "├───────────────────────────────┼───────────────────────────┼─────────────────┼────────────────────────────┤\n",
       "│ dense_1250 (<span style=\"color: #0087ff; text-decoration-color: #0087ff\">Dense</span>)            │ (<span style=\"color: #00d7ff; text-decoration-color: #00d7ff\">None</span>, <span style=\"color: #00af00; text-decoration-color: #00af00\">30</span>)                │             <span style=\"color: #00af00; text-decoration-color: #00af00\">930</span> │ dense_1247[<span style=\"color: #00af00; text-decoration-color: #00af00\">0</span>][<span style=\"color: #00af00; text-decoration-color: #00af00\">0</span>]           │\n",
       "├───────────────────────────────┼───────────────────────────┼─────────────────┼────────────────────────────┤\n",
       "│ dense_1251 (<span style=\"color: #0087ff; text-decoration-color: #0087ff\">Dense</span>)            │ (<span style=\"color: #00d7ff; text-decoration-color: #00d7ff\">None</span>, <span style=\"color: #00af00; text-decoration-color: #00af00\">4</span>)                 │             <span style=\"color: #00af00; text-decoration-color: #00af00\">124</span> │ dense_1248[<span style=\"color: #00af00; text-decoration-color: #00af00\">0</span>][<span style=\"color: #00af00; text-decoration-color: #00af00\">0</span>]           │\n",
       "├───────────────────────────────┼───────────────────────────┼─────────────────┼────────────────────────────┤\n",
       "│ dense_1252 (<span style=\"color: #0087ff; text-decoration-color: #0087ff\">Dense</span>)            │ (<span style=\"color: #00d7ff; text-decoration-color: #00d7ff\">None</span>, <span style=\"color: #00af00; text-decoration-color: #00af00\">4</span>)                 │             <span style=\"color: #00af00; text-decoration-color: #00af00\">124</span> │ dense_1249[<span style=\"color: #00af00; text-decoration-color: #00af00\">0</span>][<span style=\"color: #00af00; text-decoration-color: #00af00\">0</span>]           │\n",
       "├───────────────────────────────┼───────────────────────────┼─────────────────┼────────────────────────────┤\n",
       "│ dense_1253 (<span style=\"color: #0087ff; text-decoration-color: #0087ff\">Dense</span>)            │ (<span style=\"color: #00d7ff; text-decoration-color: #00d7ff\">None</span>, <span style=\"color: #00af00; text-decoration-color: #00af00\">4</span>)                 │             <span style=\"color: #00af00; text-decoration-color: #00af00\">124</span> │ dense_1250[<span style=\"color: #00af00; text-decoration-color: #00af00\">0</span>][<span style=\"color: #00af00; text-decoration-color: #00af00\">0</span>]           │\n",
       "├───────────────────────────────┼───────────────────────────┼─────────────────┼────────────────────────────┤\n",
       "│ concatenate_151 (<span style=\"color: #0087ff; text-decoration-color: #0087ff\">Concatenate</span>) │ (<span style=\"color: #00d7ff; text-decoration-color: #00d7ff\">None</span>, <span style=\"color: #00af00; text-decoration-color: #00af00\">12</span>)                │               <span style=\"color: #00af00; text-decoration-color: #00af00\">0</span> │ dense_1251[<span style=\"color: #00af00; text-decoration-color: #00af00\">0</span>][<span style=\"color: #00af00; text-decoration-color: #00af00\">0</span>],          │\n",
       "│                               │                           │                 │ dense_1252[<span style=\"color: #00af00; text-decoration-color: #00af00\">0</span>][<span style=\"color: #00af00; text-decoration-color: #00af00\">0</span>],          │\n",
       "│                               │                           │                 │ dense_1253[<span style=\"color: #00af00; text-decoration-color: #00af00\">0</span>][<span style=\"color: #00af00; text-decoration-color: #00af00\">0</span>]           │\n",
       "└───────────────────────────────┴───────────────────────────┴─────────────────┴────────────────────────────┘\n",
       "</pre>\n"
      ],
      "text/plain": [
       "┏━━━━━━━━━━━━━━━━━━━━━━━━━━━━━━━┳━━━━━━━━━━━━━━━━━━━━━━━━━━━┳━━━━━━━━━━━━━━━━━┳━━━━━━━━━━━━━━━━━━━━━━━━━━━━┓\n",
       "┃\u001b[1m \u001b[0m\u001b[1mLayer (type)                 \u001b[0m\u001b[1m \u001b[0m┃\u001b[1m \u001b[0m\u001b[1mOutput Shape             \u001b[0m\u001b[1m \u001b[0m┃\u001b[1m \u001b[0m\u001b[1m        Param #\u001b[0m\u001b[1m \u001b[0m┃\u001b[1m \u001b[0m\u001b[1mConnected to              \u001b[0m\u001b[1m \u001b[0m┃\n",
       "┡━━━━━━━━━━━━━━━━━━━━━━━━━━━━━━━╇━━━━━━━━━━━━━━━━━━━━━━━━━━━╇━━━━━━━━━━━━━━━━━╇━━━━━━━━━━━━━━━━━━━━━━━━━━━━┩\n",
       "│ input_layer_37 (\u001b[38;5;33mInputLayer\u001b[0m)   │ (\u001b[38;5;45mNone\u001b[0m, \u001b[38;5;34m3\u001b[0m)                 │               \u001b[38;5;34m0\u001b[0m │ -                          │\n",
       "├───────────────────────────────┼───────────────────────────┼─────────────────┼────────────────────────────┤\n",
       "│ lambda_112 (\u001b[38;5;33mLambda\u001b[0m)           │ (\u001b[38;5;45mNone\u001b[0m, \u001b[38;5;34m1\u001b[0m)                 │               \u001b[38;5;34m0\u001b[0m │ input_layer_37[\u001b[38;5;34m0\u001b[0m][\u001b[38;5;34m0\u001b[0m]       │\n",
       "├───────────────────────────────┼───────────────────────────┼─────────────────┼────────────────────────────┤\n",
       "│ lambda_113 (\u001b[38;5;33mLambda\u001b[0m)           │ (\u001b[38;5;45mNone\u001b[0m, \u001b[38;5;34m1\u001b[0m)                 │               \u001b[38;5;34m0\u001b[0m │ input_layer_37[\u001b[38;5;34m0\u001b[0m][\u001b[38;5;34m0\u001b[0m]       │\n",
       "├───────────────────────────────┼───────────────────────────┼─────────────────┼────────────────────────────┤\n",
       "│ lambda_111 (\u001b[38;5;33mLambda\u001b[0m)           │ (\u001b[38;5;45mNone\u001b[0m, \u001b[38;5;34m1\u001b[0m)                 │               \u001b[38;5;34m0\u001b[0m │ input_layer_37[\u001b[38;5;34m0\u001b[0m][\u001b[38;5;34m0\u001b[0m]       │\n",
       "├───────────────────────────────┼───────────────────────────┼─────────────────┼────────────────────────────┤\n",
       "│ dense_1222 (\u001b[38;5;33mDense\u001b[0m)            │ (\u001b[38;5;45mNone\u001b[0m, \u001b[38;5;34m30\u001b[0m)                │              \u001b[38;5;34m60\u001b[0m │ lambda_112[\u001b[38;5;34m0\u001b[0m][\u001b[38;5;34m0\u001b[0m]           │\n",
       "├───────────────────────────────┼───────────────────────────┼─────────────────┼────────────────────────────┤\n",
       "│ dense_1223 (\u001b[38;5;33mDense\u001b[0m)            │ (\u001b[38;5;45mNone\u001b[0m, \u001b[38;5;34m30\u001b[0m)                │              \u001b[38;5;34m60\u001b[0m │ lambda_113[\u001b[38;5;34m0\u001b[0m][\u001b[38;5;34m0\u001b[0m]           │\n",
       "├───────────────────────────────┼───────────────────────────┼─────────────────┼────────────────────────────┤\n",
       "│ dense_1221 (\u001b[38;5;33mDense\u001b[0m)            │ (\u001b[38;5;45mNone\u001b[0m, \u001b[38;5;34m30\u001b[0m)                │              \u001b[38;5;34m60\u001b[0m │ lambda_111[\u001b[38;5;34m0\u001b[0m][\u001b[38;5;34m0\u001b[0m]           │\n",
       "├───────────────────────────────┼───────────────────────────┼─────────────────┼────────────────────────────┤\n",
       "│ dense_1225 (\u001b[38;5;33mDense\u001b[0m)            │ (\u001b[38;5;45mNone\u001b[0m, \u001b[38;5;34m30\u001b[0m)                │             \u001b[38;5;34m930\u001b[0m │ dense_1222[\u001b[38;5;34m0\u001b[0m][\u001b[38;5;34m0\u001b[0m]           │\n",
       "├───────────────────────────────┼───────────────────────────┼─────────────────┼────────────────────────────┤\n",
       "│ dense_1226 (\u001b[38;5;33mDense\u001b[0m)            │ (\u001b[38;5;45mNone\u001b[0m, \u001b[38;5;34m30\u001b[0m)                │             \u001b[38;5;34m930\u001b[0m │ dense_1223[\u001b[38;5;34m0\u001b[0m][\u001b[38;5;34m0\u001b[0m]           │\n",
       "├───────────────────────────────┼───────────────────────────┼─────────────────┼────────────────────────────┤\n",
       "│ dense_1224 (\u001b[38;5;33mDense\u001b[0m)            │ (\u001b[38;5;45mNone\u001b[0m, \u001b[38;5;34m30\u001b[0m)                │             \u001b[38;5;34m930\u001b[0m │ dense_1221[\u001b[38;5;34m0\u001b[0m][\u001b[38;5;34m0\u001b[0m]           │\n",
       "├───────────────────────────────┼───────────────────────────┼─────────────────┼────────────────────────────┤\n",
       "│ dense_1228 (\u001b[38;5;33mDense\u001b[0m)            │ (\u001b[38;5;45mNone\u001b[0m, \u001b[38;5;34m30\u001b[0m)                │             \u001b[38;5;34m930\u001b[0m │ dense_1225[\u001b[38;5;34m0\u001b[0m][\u001b[38;5;34m0\u001b[0m]           │\n",
       "├───────────────────────────────┼───────────────────────────┼─────────────────┼────────────────────────────┤\n",
       "│ dense_1229 (\u001b[38;5;33mDense\u001b[0m)            │ (\u001b[38;5;45mNone\u001b[0m, \u001b[38;5;34m30\u001b[0m)                │             \u001b[38;5;34m930\u001b[0m │ dense_1226[\u001b[38;5;34m0\u001b[0m][\u001b[38;5;34m0\u001b[0m]           │\n",
       "├───────────────────────────────┼───────────────────────────┼─────────────────┼────────────────────────────┤\n",
       "│ dense_1227 (\u001b[38;5;33mDense\u001b[0m)            │ (\u001b[38;5;45mNone\u001b[0m, \u001b[38;5;34m30\u001b[0m)                │             \u001b[38;5;34m930\u001b[0m │ dense_1224[\u001b[38;5;34m0\u001b[0m][\u001b[38;5;34m0\u001b[0m]           │\n",
       "├───────────────────────────────┼───────────────────────────┼─────────────────┼────────────────────────────┤\n",
       "│ dense_1231 (\u001b[38;5;33mDense\u001b[0m)            │ (\u001b[38;5;45mNone\u001b[0m, \u001b[38;5;34m30\u001b[0m)                │             \u001b[38;5;34m930\u001b[0m │ dense_1228[\u001b[38;5;34m0\u001b[0m][\u001b[38;5;34m0\u001b[0m]           │\n",
       "├───────────────────────────────┼───────────────────────────┼─────────────────┼────────────────────────────┤\n",
       "│ dense_1232 (\u001b[38;5;33mDense\u001b[0m)            │ (\u001b[38;5;45mNone\u001b[0m, \u001b[38;5;34m30\u001b[0m)                │             \u001b[38;5;34m930\u001b[0m │ dense_1229[\u001b[38;5;34m0\u001b[0m][\u001b[38;5;34m0\u001b[0m]           │\n",
       "├───────────────────────────────┼───────────────────────────┼─────────────────┼────────────────────────────┤\n",
       "│ dense_1230 (\u001b[38;5;33mDense\u001b[0m)            │ (\u001b[38;5;45mNone\u001b[0m, \u001b[38;5;34m30\u001b[0m)                │             \u001b[38;5;34m930\u001b[0m │ dense_1227[\u001b[38;5;34m0\u001b[0m][\u001b[38;5;34m0\u001b[0m]           │\n",
       "├───────────────────────────────┼───────────────────────────┼─────────────────┼────────────────────────────┤\n",
       "│ dense_1234 (\u001b[38;5;33mDense\u001b[0m)            │ (\u001b[38;5;45mNone\u001b[0m, \u001b[38;5;34m30\u001b[0m)                │             \u001b[38;5;34m930\u001b[0m │ dense_1231[\u001b[38;5;34m0\u001b[0m][\u001b[38;5;34m0\u001b[0m]           │\n",
       "├───────────────────────────────┼───────────────────────────┼─────────────────┼────────────────────────────┤\n",
       "│ dense_1235 (\u001b[38;5;33mDense\u001b[0m)            │ (\u001b[38;5;45mNone\u001b[0m, \u001b[38;5;34m30\u001b[0m)                │             \u001b[38;5;34m930\u001b[0m │ dense_1232[\u001b[38;5;34m0\u001b[0m][\u001b[38;5;34m0\u001b[0m]           │\n",
       "├───────────────────────────────┼───────────────────────────┼─────────────────┼────────────────────────────┤\n",
       "│ dense_1233 (\u001b[38;5;33mDense\u001b[0m)            │ (\u001b[38;5;45mNone\u001b[0m, \u001b[38;5;34m30\u001b[0m)                │             \u001b[38;5;34m930\u001b[0m │ dense_1230[\u001b[38;5;34m0\u001b[0m][\u001b[38;5;34m0\u001b[0m]           │\n",
       "├───────────────────────────────┼───────────────────────────┼─────────────────┼────────────────────────────┤\n",
       "│ concatenate_148 (\u001b[38;5;33mConcatenate\u001b[0m) │ (\u001b[38;5;45mNone\u001b[0m, \u001b[38;5;34m60\u001b[0m)                │               \u001b[38;5;34m0\u001b[0m │ dense_1234[\u001b[38;5;34m0\u001b[0m][\u001b[38;5;34m0\u001b[0m],          │\n",
       "│                               │                           │                 │ dense_1235[\u001b[38;5;34m0\u001b[0m][\u001b[38;5;34m0\u001b[0m]           │\n",
       "├───────────────────────────────┼───────────────────────────┼─────────────────┼────────────────────────────┤\n",
       "│ concatenate_149 (\u001b[38;5;33mConcatenate\u001b[0m) │ (\u001b[38;5;45mNone\u001b[0m, \u001b[38;5;34m60\u001b[0m)                │               \u001b[38;5;34m0\u001b[0m │ dense_1235[\u001b[38;5;34m0\u001b[0m][\u001b[38;5;34m0\u001b[0m],          │\n",
       "│                               │                           │                 │ dense_1233[\u001b[38;5;34m0\u001b[0m][\u001b[38;5;34m0\u001b[0m]           │\n",
       "├───────────────────────────────┼───────────────────────────┼─────────────────┼────────────────────────────┤\n",
       "│ concatenate_150 (\u001b[38;5;33mConcatenate\u001b[0m) │ (\u001b[38;5;45mNone\u001b[0m, \u001b[38;5;34m60\u001b[0m)                │               \u001b[38;5;34m0\u001b[0m │ dense_1233[\u001b[38;5;34m0\u001b[0m][\u001b[38;5;34m0\u001b[0m],          │\n",
       "│                               │                           │                 │ dense_1234[\u001b[38;5;34m0\u001b[0m][\u001b[38;5;34m0\u001b[0m]           │\n",
       "├───────────────────────────────┼───────────────────────────┼─────────────────┼────────────────────────────┤\n",
       "│ dense_1236 (\u001b[38;5;33mDense\u001b[0m)            │ (\u001b[38;5;45mNone\u001b[0m, \u001b[38;5;34m30\u001b[0m)                │           \u001b[38;5;34m1,830\u001b[0m │ concatenate_148[\u001b[38;5;34m0\u001b[0m][\u001b[38;5;34m0\u001b[0m]      │\n",
       "├───────────────────────────────┼───────────────────────────┼─────────────────┼────────────────────────────┤\n",
       "│ dense_1237 (\u001b[38;5;33mDense\u001b[0m)            │ (\u001b[38;5;45mNone\u001b[0m, \u001b[38;5;34m30\u001b[0m)                │           \u001b[38;5;34m1,830\u001b[0m │ concatenate_149[\u001b[38;5;34m0\u001b[0m][\u001b[38;5;34m0\u001b[0m]      │\n",
       "├───────────────────────────────┼───────────────────────────┼─────────────────┼────────────────────────────┤\n",
       "│ dense_1238 (\u001b[38;5;33mDense\u001b[0m)            │ (\u001b[38;5;45mNone\u001b[0m, \u001b[38;5;34m30\u001b[0m)                │           \u001b[38;5;34m1,830\u001b[0m │ concatenate_150[\u001b[38;5;34m0\u001b[0m][\u001b[38;5;34m0\u001b[0m]      │\n",
       "├───────────────────────────────┼───────────────────────────┼─────────────────┼────────────────────────────┤\n",
       "│ dense_1239 (\u001b[38;5;33mDense\u001b[0m)            │ (\u001b[38;5;45mNone\u001b[0m, \u001b[38;5;34m30\u001b[0m)                │             \u001b[38;5;34m930\u001b[0m │ dense_1236[\u001b[38;5;34m0\u001b[0m][\u001b[38;5;34m0\u001b[0m]           │\n",
       "├───────────────────────────────┼───────────────────────────┼─────────────────┼────────────────────────────┤\n",
       "│ dense_1240 (\u001b[38;5;33mDense\u001b[0m)            │ (\u001b[38;5;45mNone\u001b[0m, \u001b[38;5;34m30\u001b[0m)                │             \u001b[38;5;34m930\u001b[0m │ dense_1237[\u001b[38;5;34m0\u001b[0m][\u001b[38;5;34m0\u001b[0m]           │\n",
       "├───────────────────────────────┼───────────────────────────┼─────────────────┼────────────────────────────┤\n",
       "│ dense_1241 (\u001b[38;5;33mDense\u001b[0m)            │ (\u001b[38;5;45mNone\u001b[0m, \u001b[38;5;34m30\u001b[0m)                │             \u001b[38;5;34m930\u001b[0m │ dense_1238[\u001b[38;5;34m0\u001b[0m][\u001b[38;5;34m0\u001b[0m]           │\n",
       "├───────────────────────────────┼───────────────────────────┼─────────────────┼────────────────────────────┤\n",
       "│ dense_1242 (\u001b[38;5;33mDense\u001b[0m)            │ (\u001b[38;5;45mNone\u001b[0m, \u001b[38;5;34m30\u001b[0m)                │             \u001b[38;5;34m930\u001b[0m │ dense_1239[\u001b[38;5;34m0\u001b[0m][\u001b[38;5;34m0\u001b[0m]           │\n",
       "├───────────────────────────────┼───────────────────────────┼─────────────────┼────────────────────────────┤\n",
       "│ dense_1243 (\u001b[38;5;33mDense\u001b[0m)            │ (\u001b[38;5;45mNone\u001b[0m, \u001b[38;5;34m30\u001b[0m)                │             \u001b[38;5;34m930\u001b[0m │ dense_1240[\u001b[38;5;34m0\u001b[0m][\u001b[38;5;34m0\u001b[0m]           │\n",
       "├───────────────────────────────┼───────────────────────────┼─────────────────┼────────────────────────────┤\n",
       "│ dense_1244 (\u001b[38;5;33mDense\u001b[0m)            │ (\u001b[38;5;45mNone\u001b[0m, \u001b[38;5;34m30\u001b[0m)                │             \u001b[38;5;34m930\u001b[0m │ dense_1241[\u001b[38;5;34m0\u001b[0m][\u001b[38;5;34m0\u001b[0m]           │\n",
       "├───────────────────────────────┼───────────────────────────┼─────────────────┼────────────────────────────┤\n",
       "│ dense_1245 (\u001b[38;5;33mDense\u001b[0m)            │ (\u001b[38;5;45mNone\u001b[0m, \u001b[38;5;34m30\u001b[0m)                │             \u001b[38;5;34m930\u001b[0m │ dense_1242[\u001b[38;5;34m0\u001b[0m][\u001b[38;5;34m0\u001b[0m]           │\n",
       "├───────────────────────────────┼───────────────────────────┼─────────────────┼────────────────────────────┤\n",
       "│ dense_1246 (\u001b[38;5;33mDense\u001b[0m)            │ (\u001b[38;5;45mNone\u001b[0m, \u001b[38;5;34m30\u001b[0m)                │             \u001b[38;5;34m930\u001b[0m │ dense_1243[\u001b[38;5;34m0\u001b[0m][\u001b[38;5;34m0\u001b[0m]           │\n",
       "├───────────────────────────────┼───────────────────────────┼─────────────────┼────────────────────────────┤\n",
       "│ dense_1247 (\u001b[38;5;33mDense\u001b[0m)            │ (\u001b[38;5;45mNone\u001b[0m, \u001b[38;5;34m30\u001b[0m)                │             \u001b[38;5;34m930\u001b[0m │ dense_1244[\u001b[38;5;34m0\u001b[0m][\u001b[38;5;34m0\u001b[0m]           │\n",
       "├───────────────────────────────┼───────────────────────────┼─────────────────┼────────────────────────────┤\n",
       "│ dense_1248 (\u001b[38;5;33mDense\u001b[0m)            │ (\u001b[38;5;45mNone\u001b[0m, \u001b[38;5;34m30\u001b[0m)                │             \u001b[38;5;34m930\u001b[0m │ dense_1245[\u001b[38;5;34m0\u001b[0m][\u001b[38;5;34m0\u001b[0m]           │\n",
       "├───────────────────────────────┼───────────────────────────┼─────────────────┼────────────────────────────┤\n",
       "│ dense_1249 (\u001b[38;5;33mDense\u001b[0m)            │ (\u001b[38;5;45mNone\u001b[0m, \u001b[38;5;34m30\u001b[0m)                │             \u001b[38;5;34m930\u001b[0m │ dense_1246[\u001b[38;5;34m0\u001b[0m][\u001b[38;5;34m0\u001b[0m]           │\n",
       "├───────────────────────────────┼───────────────────────────┼─────────────────┼────────────────────────────┤\n",
       "│ dense_1250 (\u001b[38;5;33mDense\u001b[0m)            │ (\u001b[38;5;45mNone\u001b[0m, \u001b[38;5;34m30\u001b[0m)                │             \u001b[38;5;34m930\u001b[0m │ dense_1247[\u001b[38;5;34m0\u001b[0m][\u001b[38;5;34m0\u001b[0m]           │\n",
       "├───────────────────────────────┼───────────────────────────┼─────────────────┼────────────────────────────┤\n",
       "│ dense_1251 (\u001b[38;5;33mDense\u001b[0m)            │ (\u001b[38;5;45mNone\u001b[0m, \u001b[38;5;34m4\u001b[0m)                 │             \u001b[38;5;34m124\u001b[0m │ dense_1248[\u001b[38;5;34m0\u001b[0m][\u001b[38;5;34m0\u001b[0m]           │\n",
       "├───────────────────────────────┼───────────────────────────┼─────────────────┼────────────────────────────┤\n",
       "│ dense_1252 (\u001b[38;5;33mDense\u001b[0m)            │ (\u001b[38;5;45mNone\u001b[0m, \u001b[38;5;34m4\u001b[0m)                 │             \u001b[38;5;34m124\u001b[0m │ dense_1249[\u001b[38;5;34m0\u001b[0m][\u001b[38;5;34m0\u001b[0m]           │\n",
       "├───────────────────────────────┼───────────────────────────┼─────────────────┼────────────────────────────┤\n",
       "│ dense_1253 (\u001b[38;5;33mDense\u001b[0m)            │ (\u001b[38;5;45mNone\u001b[0m, \u001b[38;5;34m4\u001b[0m)                 │             \u001b[38;5;34m124\u001b[0m │ dense_1250[\u001b[38;5;34m0\u001b[0m][\u001b[38;5;34m0\u001b[0m]           │\n",
       "├───────────────────────────────┼───────────────────────────┼─────────────────┼────────────────────────────┤\n",
       "│ concatenate_151 (\u001b[38;5;33mConcatenate\u001b[0m) │ (\u001b[38;5;45mNone\u001b[0m, \u001b[38;5;34m12\u001b[0m)                │               \u001b[38;5;34m0\u001b[0m │ dense_1251[\u001b[38;5;34m0\u001b[0m][\u001b[38;5;34m0\u001b[0m],          │\n",
       "│                               │                           │                 │ dense_1252[\u001b[38;5;34m0\u001b[0m][\u001b[38;5;34m0\u001b[0m],          │\n",
       "│                               │                           │                 │ dense_1253[\u001b[38;5;34m0\u001b[0m][\u001b[38;5;34m0\u001b[0m]           │\n",
       "└───────────────────────────────┴───────────────────────────┴─────────────────┴────────────────────────────┘\n"
      ]
     },
     "metadata": {},
     "output_type": "display_data"
    },
    {
     "data": {
      "text/html": [
       "<pre style=\"white-space:pre;overflow-x:auto;line-height:normal;font-family:Menlo,'DejaVu Sans Mono',consolas,'Courier New',monospace\"><span style=\"font-weight: bold\"> Total params: </span><span style=\"color: #00af00; text-decoration-color: #00af00\">28,362</span> (110.79 KB)\n",
       "</pre>\n"
      ],
      "text/plain": [
       "\u001b[1m Total params: \u001b[0m\u001b[38;5;34m28,362\u001b[0m (110.79 KB)\n"
      ]
     },
     "metadata": {},
     "output_type": "display_data"
    },
    {
     "data": {
      "text/html": [
       "<pre style=\"white-space:pre;overflow-x:auto;line-height:normal;font-family:Menlo,'DejaVu Sans Mono',consolas,'Courier New',monospace\"><span style=\"font-weight: bold\"> Trainable params: </span><span style=\"color: #00af00; text-decoration-color: #00af00\">28,362</span> (110.79 KB)\n",
       "</pre>\n"
      ],
      "text/plain": [
       "\u001b[1m Trainable params: \u001b[0m\u001b[38;5;34m28,362\u001b[0m (110.79 KB)\n"
      ]
     },
     "metadata": {},
     "output_type": "display_data"
    },
    {
     "data": {
      "text/html": [
       "<pre style=\"white-space:pre;overflow-x:auto;line-height:normal;font-family:Menlo,'DejaVu Sans Mono',consolas,'Courier New',monospace\"><span style=\"font-weight: bold\"> Non-trainable params: </span><span style=\"color: #00af00; text-decoration-color: #00af00\">0</span> (0.00 B)\n",
       "</pre>\n"
      ],
      "text/plain": [
       "\u001b[1m Non-trainable params: \u001b[0m\u001b[38;5;34m0\u001b[0m (0.00 B)\n"
      ]
     },
     "metadata": {},
     "output_type": "display_data"
    },
    {
     "name": "stdout",
     "output_type": "stream",
     "text": [
      "None\n"
     ]
    }
   ],
   "source": [
    "print(model2.summary())\n",
    "#visualkeras.layered_view(model).show()"
   ]
  },
  {
   "cell_type": "code",
   "execution_count": 607,
   "id": "b48d403f-3e25-4474-8328-b3f65f3ee5f2",
   "metadata": {},
   "outputs": [
    {
     "data": {
      "text/plain": [
       "'\\nnp.array([2.09915292e-04, 1.12435664e-04, 2.76195277e-02, 2.78368425e-02,\\n 9.36740034e-05, 4.32031593e-05, 4.38563563e-02, 2.51991376e-02,\\n 2.75416933e-02, 2.51322668e-02, 6.80062803e-05, 2.91702629e-04,\\n 2.76044924e-02, 4.43501808e-02, 1.79905273e-05, 1.16449359e-04,\\n 4.51197935e-04, 1.86407866e-04, 2.54691169e-02, 4.33771722e-02,\\n 2.85009592e-04, 1.12418129e-04, 2.73917355e-02, 2.78170742e-02,\\n 4.39418033e-02, 2.77352910e-02, 6.87861466e-05, 6.44116662e-04,\\n 2.52436418e-02, 2.74552442e-02, 1.41288338e-05, 4.00586403e-04,\\n 2.76484117e-02, 4.39885594e-02, 3.78915836e-04, 2.37263084e-05,\\n 2.50949077e-02, 2.73492113e-02, 8.44969909e-05, 1.73613316e-05,\\n 2.41968111e-04, 2.06735116e-04, 4.91803698e-02, 2.48930696e-02,\\n 5.73323305e-05, 4.74918925e-05, 2.50875466e-02, 2.52952557e-02,\\n 2.73282062e-02, 2.49630976e-02, 4.94878681e-04, 9.46306172e-05,\\n 4.38985638e-02, 2.73477342e-02, 2.81656132e-04, 1.09653651e-04,\\n 4.64272365e-04, 2.65330687e-04, 2.47939322e-02, 2.51114126e-02,\\n 3.06542614e-04, 1.69729785e-04, 2.49963775e-02, 4.90800031e-02])\\n'"
      ]
     },
     "execution_count": 607,
     "metadata": {},
     "output_type": "execute_result"
    }
   ],
   "source": [
    "prev0 = np.array([9.3211807e-02, 4.3799682e-03, 4.0963590e-01, 6.1166389e-03,\n",
    "       1.7763756e-02, 1.1095599e-03, 6.0363207e-02, 1.0938959e-03,\n",
    "       5.1720561e-03, 5.5141747e-04, 1.0579249e-02, 5.6601537e-04,\n",
    "       6.8927027e-02, 6.3990424e-03, 2.0237404e-01, 7.6764366e-03,\n",
    "       5.9933313e-03, 3.6391526e-04, 1.0007162e-02, 5.8688963e-04,\n",
    "       2.0120949e-03, 1.8409202e-04, 2.2668850e-03, 2.2300902e-04,\n",
    "       3.5969634e-04, 9.4253985e-05, 4.4412070e-04, 1.2299222e-04,\n",
    "       4.0057870e-03, 4.4605570e-04, 5.7469979e-03, 6.3376164e-04,\n",
    "       3.5897330e-03, 2.2477748e-04, 7.0610396e-03, 3.5691689e-04,\n",
    "       1.5175435e-03, 1.5572431e-04, 2.0093534e-03, 1.8716497e-04,\n",
    "       3.1093956e-04, 8.3142164e-05, 4.1484961e-04, 1.0644307e-04,\n",
    "       2.4014907e-03, 2.3089537e-04, 3.9291922e-03, 3.1804247e-04,\n",
    "       6.4061997e-03, 3.8808445e-04, 1.5487869e-02, 5.9955835e-04,\n",
    "       2.5092710e-03, 2.2964981e-04, 4.1833520e-03, 2.6638075e-04,\n",
    "       5.1570911e-04, 1.2125146e-04, 7.5264135e-04, 1.4977081e-04,\n",
    "       5.0122305e-03, 4.6564435e-04, 9.9939834e-03, 6.0855882e-04])\n",
    "\n",
    "'''\n",
    "np.array([2.09915292e-04, 1.12435664e-04, 2.76195277e-02, 2.78368425e-02,\n",
    " 9.36740034e-05, 4.32031593e-05, 4.38563563e-02, 2.51991376e-02,\n",
    " 2.75416933e-02, 2.51322668e-02, 6.80062803e-05, 2.91702629e-04,\n",
    " 2.76044924e-02, 4.43501808e-02, 1.79905273e-05, 1.16449359e-04,\n",
    " 4.51197935e-04, 1.86407866e-04, 2.54691169e-02, 4.33771722e-02,\n",
    " 2.85009592e-04, 1.12418129e-04, 2.73917355e-02, 2.78170742e-02,\n",
    " 4.39418033e-02, 2.77352910e-02, 6.87861466e-05, 6.44116662e-04,\n",
    " 2.52436418e-02, 2.74552442e-02, 1.41288338e-05, 4.00586403e-04,\n",
    " 2.76484117e-02, 4.39885594e-02, 3.78915836e-04, 2.37263084e-05,\n",
    " 2.50949077e-02, 2.73492113e-02, 8.44969909e-05, 1.73613316e-05,\n",
    " 2.41968111e-04, 2.06735116e-04, 4.91803698e-02, 2.48930696e-02,\n",
    " 5.73323305e-05, 4.74918925e-05, 2.50875466e-02, 2.52952557e-02,\n",
    " 2.73282062e-02, 2.49630976e-02, 4.94878681e-04, 9.46306172e-05,\n",
    " 4.38985638e-02, 2.73477342e-02, 2.81656132e-04, 1.09653651e-04,\n",
    " 4.64272365e-04, 2.65330687e-04, 2.47939322e-02, 2.51114126e-02,\n",
    " 3.06542614e-04, 1.69729785e-04, 2.49963775e-02, 4.90800031e-02])\n",
    "''' "
   ]
  },
  {
   "cell_type": "code",
   "execution_count": 611,
   "id": "dd57da5a-cbfb-479a-a60a-1b02869f3a98",
   "metadata": {
    "tags": []
   },
   "outputs": [
    {
     "data": {
      "text/plain": [
       "'\\nnp.array([0.00068528, 0.00063739, 0.02269777, 0.03226457, 0.0001606 ,\\n       0.00023406, 0.03862127, 0.02858838, 0.0286487 , 0.02414172,\\n       0.00042138, 0.00058857, 0.033029  , 0.03757256, 0.00021135,\\n       0.00045531, 0.00055085, 0.00038715, 0.02949398, 0.03758885,\\n       0.00023406, 0.00037356, 0.03145346, 0.02304235, 0.03567592,\\n       0.03351105, 0.0002252 , 0.00042556, 0.02558597, 0.02805429,\\n       0.00034147, 0.00054642, 0.03023926, 0.03942982, 0.00073818,\\n       0.00036977, 0.0292243 , 0.02551075, 0.00026233, 0.00016415,\\n       0.00039323, 0.00079739, 0.03902571, 0.03229255, 0.00016466,\\n       0.0003778 , 0.02667868, 0.02704863, 0.02534753, 0.02916446,\\n       0.00049464, 0.00018538, 0.03857582, 0.03058061, 0.00034302,\\n       0.00024526, 0.00011773, 0.00035704, 0.02937307, 0.02341398,\\n       0.00033145, 0.00069538, 0.02974423, 0.04184069])\\n'"
      ]
     },
     "execution_count": 611,
     "metadata": {},
     "output_type": "execute_result"
    }
   ],
   "source": [
    "prev1 = np.array([0.01082569, 0.02870025, 0.01714768, 0.02652796, 0.01242921,\n",
    "       0.03236996, 0.02008184, 0.03166784, 0.01953309, 0.04924431,\n",
    "       0.02973386, 0.04008811, 0.01238827, 0.03262989, 0.02014431,\n",
    "       0.03207883, 0.00486064, 0.01340154, 0.00765527, 0.01219288,\n",
    "       0.00526825, 0.0144456 , 0.00820794, 0.01234625, 0.00681013,\n",
    "       0.01935962, 0.00969986, 0.01384819, 0.00614155, 0.01727212,\n",
    "       0.00980376, 0.0159138 , 0.00712939, 0.01608787, 0.01035869,\n",
    "       0.01536264, 0.00812792, 0.01826651, 0.01201607, 0.01881922,\n",
    "       0.01261886, 0.02752282, 0.01807261, 0.0235055 , 0.00805492,\n",
    "       0.01797372, 0.01186192, 0.01831958, 0.00471662, 0.01148145,\n",
    "       0.0068002 , 0.01030668, 0.00538264, 0.01285151, 0.00796527,\n",
    "       0.01211001, 0.00800712, 0.01901822, 0.01097792, 0.0148406 ,\n",
    "       0.00540345, 0.01295326, 0.00795041, 0.01231802])\n",
    "\n",
    "'''\n",
    "np.array([0.00068528, 0.00063739, 0.02269777, 0.03226457, 0.0001606 ,\n",
    "       0.00023406, 0.03862127, 0.02858838, 0.0286487 , 0.02414172,\n",
    "       0.00042138, 0.00058857, 0.033029  , 0.03757256, 0.00021135,\n",
    "       0.00045531, 0.00055085, 0.00038715, 0.02949398, 0.03758885,\n",
    "       0.00023406, 0.00037356, 0.03145346, 0.02304235, 0.03567592,\n",
    "       0.03351105, 0.0002252 , 0.00042556, 0.02558597, 0.02805429,\n",
    "       0.00034147, 0.00054642, 0.03023926, 0.03942982, 0.00073818,\n",
    "       0.00036977, 0.0292243 , 0.02551075, 0.00026233, 0.00016415,\n",
    "       0.00039323, 0.00079739, 0.03902571, 0.03229255, 0.00016466,\n",
    "       0.0003778 , 0.02667868, 0.02704863, 0.02534753, 0.02916446,\n",
    "       0.00049464, 0.00018538, 0.03857582, 0.03058061, 0.00034302,\n",
    "       0.00024526, 0.00011773, 0.00035704, 0.02937307, 0.02341398,\n",
    "       0.00033145, 0.00069538, 0.02974423, 0.04184069])\n",
    "'''"
   ]
  },
  {
   "cell_type": "code",
   "execution_count": 613,
   "id": "97f7a194-9a4e-4e1a-863b-052ee025a22e",
   "metadata": {
    "tags": []
   },
   "outputs": [
    {
     "data": {
      "text/plain": [
       "'\\nnp.array([5.9918128e-04, 9.7573764e-05, 5.7216797e-02, 5.5484772e-02,\\n       7.2350854e-04, 1.1153211e-04, 7.1470343e-02, 6.6790737e-02,\\n       1.4303577e-08, 2.3388571e-09, 1.4110409e-06, 1.3998372e-06,\\n       4.4589757e-07, 7.7406064e-08, 4.8458533e-05, 4.7601396e-05,\\n       7.0824061e-04, 9.0292066e-05, 6.8543784e-02, 7.1826160e-02,\\n       6.6448317e-04, 8.7722270e-05, 5.4102480e-02, 6.0307957e-02,\\n       1.2410113e-08, 1.6811362e-09, 9.1997333e-07, 1.1071871e-06,\\n       5.0052370e-07, 6.6599270e-08, 4.0932609e-05, 4.6651468e-05,\\n       5.6521498e-02, 8.1286080e-02, 1.3320443e-04, 1.3818589e-04,\\n       4.2145140e-02, 6.2112544e-02, 1.3589553e-04, 1.3358517e-04,\\n       7.4759333e-07, 1.0713495e-06, 2.5555702e-09, 2.5892426e-09,\\n       3.1761596e-05, 4.5166973e-05, 9.8279777e-08, 9.9696962e-08,\\n       6.5854311e-02, 3.9826129e-02, 5.7896081e-04, 6.1978231e-04,\\n       8.0957197e-02, 5.8887724e-02, 7.1103667e-04, 7.4773910e-04,\\n       1.6582554e-06, 1.1989530e-06, 1.4066910e-08, 1.5369791e-08,\\n       5.8532525e-05, 4.2053718e-05, 5.3758475e-07, 5.8180149e-07])\\n'"
      ]
     },
     "execution_count": 613,
     "metadata": {},
     "output_type": "execute_result"
    }
   ],
   "source": [
    "prev2 = np.array([0.00720145, 0.00043698, 0.00155408, 0.00052515, 0.00905902,\n",
    "       0.0014452 , 0.00377897, 0.00168253, 0.01121959, 0.00098258,\n",
    "       0.0032326 , 0.00116193, 0.00552742, 0.00083397, 0.00234455,\n",
    "       0.00097651, 0.04940966, 0.00132813, 0.00759832, 0.00158346,\n",
    "       0.0792641 , 0.0068946 , 0.0255704 , 0.00782146, 0.08548392,\n",
    "       0.0035335 , 0.01902296, 0.00412218, 0.0476815 , 0.00345801,\n",
    "       0.01510605, 0.00398665, 0.02919714, 0.00157307, 0.0059023 ,\n",
    "       0.00195769, 0.04233821, 0.00638153, 0.01749432, 0.0075386 ,\n",
    "       0.04830187, 0.00392746, 0.01361245, 0.00476014, 0.02447766,\n",
    "       0.00336564, 0.01006254, 0.00403597, 0.04453743, 0.00148076,\n",
    "       0.00700741, 0.00184939, 0.08299837, 0.00722901, 0.0276656 ,\n",
    "       0.00859423, 0.08180675, 0.00397679, 0.01906683, 0.00484812,\n",
    "       0.04666529, 0.00374139, 0.01526996, 0.00450717])\n",
    "\n",
    "'''\n",
    "np.array([5.9918128e-04, 9.7573764e-05, 5.7216797e-02, 5.5484772e-02,\n",
    "       7.2350854e-04, 1.1153211e-04, 7.1470343e-02, 6.6790737e-02,\n",
    "       1.4303577e-08, 2.3388571e-09, 1.4110409e-06, 1.3998372e-06,\n",
    "       4.4589757e-07, 7.7406064e-08, 4.8458533e-05, 4.7601396e-05,\n",
    "       7.0824061e-04, 9.0292066e-05, 6.8543784e-02, 7.1826160e-02,\n",
    "       6.6448317e-04, 8.7722270e-05, 5.4102480e-02, 6.0307957e-02,\n",
    "       1.2410113e-08, 1.6811362e-09, 9.1997333e-07, 1.1071871e-06,\n",
    "       5.0052370e-07, 6.6599270e-08, 4.0932609e-05, 4.6651468e-05,\n",
    "       5.6521498e-02, 8.1286080e-02, 1.3320443e-04, 1.3818589e-04,\n",
    "       4.2145140e-02, 6.2112544e-02, 1.3589553e-04, 1.3358517e-04,\n",
    "       7.4759333e-07, 1.0713495e-06, 2.5555702e-09, 2.5892426e-09,\n",
    "       3.1761596e-05, 4.5166973e-05, 9.8279777e-08, 9.9696962e-08,\n",
    "       6.5854311e-02, 3.9826129e-02, 5.7896081e-04, 6.1978231e-04,\n",
    "       8.0957197e-02, 5.8887724e-02, 7.1103667e-04, 7.4773910e-04,\n",
    "       1.6582554e-06, 1.1989530e-06, 1.4066910e-08, 1.5369791e-08,\n",
    "       5.8532525e-05, 4.2053718e-05, 5.3758475e-07, 5.8180149e-07])\n",
    "'''"
   ]
  },
  {
   "cell_type": "code",
   "execution_count": 615,
   "id": "002dbafe-f024-45d6-9e4e-6bfbfc56c3db",
   "metadata": {
    "tags": []
   },
   "outputs": [],
   "source": [
    "prev3 = np.array([0.02743876, 0.0568907 , 0.01593474, 0.05606815, 0.00026666,\n",
    "       0.0021755 , 0.00041514, 0.00129829, 0.01253327, 0.07568426,\n",
    "       0.08597195, 0.0335184 , 0.00106371, 0.00819717, 0.00155957,\n",
    "       0.00503329, 0.01864176, 0.02561032, 0.01047431, 0.03447776,\n",
    "       0.00019016, 0.00103269, 0.00023819, 0.00083216, 0.00704184,\n",
    "       0.0305955 , 0.05237482, 0.01824785, 0.00078985, 0.00404269,\n",
    "       0.00094528, 0.00333465, 0.02708276, 0.03838196, 0.01514319,\n",
    "       0.05048652, 0.00023882, 0.00139202, 0.00031147, 0.00105779,\n",
    "       0.01012998, 0.04767991, 0.07609345, 0.02691574, 0.00106434,\n",
    "       0.00560521, 0.001296  , 0.0044894 , 0.00977498, 0.01174584,\n",
    "       0.00562533, 0.01762751, 0.0001202 , 0.00056019, 0.00014328,\n",
    "       0.00049676, 0.00289935, 0.01281189, 0.0251396 , 0.00775487,\n",
    "       0.00047908, 0.00207727, 0.00054702, 0.00190614])"
   ]
  },
  {
   "cell_type": "code",
   "execution_count": 617,
   "id": "a1d13eff-7fd5-44cb-a8fb-0a7db68d3fa3",
   "metadata": {},
   "outputs": [],
   "source": [
    "def customLoss(y_true,y_pred):\n",
    "    \"\"\" Custom loss function.\"\"\"\n",
    "    # Note that y_true is just batch_size copies of the target distributions. So any row could be taken here. We just take 0-th row.\n",
    "    return keras_distance(y_true[0,:], ((1/6)*prev0 + (1/6)*prev1 + (1/6)*prev2 + (1/6)*prev3 + (2/6)*customLoss_distr(y_pred)))\n",
    "\n",
    "#keras_distance(y_true[0,:], ((1/3)*prev0 + (1/3)*prev1 + (1/3)*customLoss_distr(y_pred)))\n",
    "#keras_distance(y_true[0,:], ((1/2)*prev0 + (1/2)*customLoss_distr(y_pred)))\n",
    "#keras_distance(y_true[0,:], ((1/4)*prev0 + (1/4)*prev1 + (1/4)*prev2 + (1/4)*customLoss_distr(y_pred)))\n",
    "\n",
    "def customLoss_distr(y_pred):\n",
    "    \"\"\" Converts the output of the neural network to a probability vector.\n",
    "    That is from a shape of (batch_size, a_outputsize + b_outputsize + c_outputsize) to a shape of (a_outputsize * b_outputsize * c_outputsize,)\n",
    "    \"\"\"\n",
    "    a_probs = y_pred[:,0:a_outputsize]\n",
    "    b_probs = y_pred[:,a_outputsize : a_outputsize + b_outputsize]\n",
    "    c_probs = y_pred[:,a_outputsize + b_outputsize : a_outputsize + b_outputsize + c_outputsize]\n",
    "\n",
    "    a_probs = K.reshape(a_probs,(-1,a_outputsize,1,1))\n",
    "    b_probs = K.reshape(b_probs,(-1,1,b_outputsize,1))\n",
    "    c_probs = K.reshape(c_probs,(-1,1,1,c_outputsize))\n",
    "\n",
    "    probs = a_probs*b_probs*c_probs\n",
    "    probs = K.mean(probs,axis=0)\n",
    "    probs = K.flatten(probs)\n",
    "    return probs\n",
    "\n",
    "def keras_distance(p,q):\n",
    "    \"\"\" Distance used in loss function. \"\"\"\n",
    "    if loss.lower() == 'l2':\n",
    "        return K.sum(K.square(p-q),axis=-1)\n",
    "    elif loss.lower() == 'l1':\n",
    "        return 0.5*K.sum(K.abs(p-q), axis=-1)\n",
    "    elif loss.lower() == 'kl':\n",
    "        p = K.clip(p, K.epsilon(), 1)\n",
    "        q = K.clip(q, K.epsilon(), 1)\n",
    "        return K.sum(p * K.log(p / q), axis=-1)\n",
    "    elif loss.lower() == 'js':\n",
    "        p = K.clip(p, K.epsilon(), 1)\n",
    "        q = K.clip(q, K.epsilon(), 1)\n",
    "        avg = (p+q)/2\n",
    "        return K.sum(p * K.log(p / avg), axis=-1) + K.sum(q * K.log(q / avg), axis=-1)\n",
    "    \n",
    "def np_distance(p,q=0):\n",
    "    \"\"\" Same as the distance used in the loss function, just written for numpy arrays.\"\"\"\n",
    "    if loss.lower() == 'l2':\n",
    "        return np.sum(np.square(p-q),axis=-1)\n",
    "    elif loss.lower() == 'l1':\n",
    "        return 0.5*np.sum(np.abs(p-q),axis=-1)\n",
    "    elif loss.lower() == 'kl':\n",
    "        p = np.clip(p, K.epsilon(), 1)\n",
    "        q = np.clip(q, K.epsilon(), 1)\n",
    "        return np.sum(p * np.log(np.divide(p,q)), axis=-1)\n",
    "    elif loss.lower() == 'js':\n",
    "        p = np.clip(p, K.epsilon(), 1)\n",
    "        q = np.clip(q, K.epsilon(), 1)\n",
    "        avg = (p+q)/2\n",
    "        return np.sum(p * np.log(np.divide(p,avg)), axis=-1) + np.sum(q * np.log(np.divide(q,avg)), axis=-1)\n",
    "    \n",
    "def np_euclidean_distance(p,q=0):\n",
    "    \"\"\" Euclidean distance, useful for plotting results.\"\"\"\n",
    "    return np.sqrt(np.sum(np.square(p-q),axis=-1))\n",
    "\n",
    "def generate_xy_batch(y_true):\n",
    "    while True:\n",
    "        temp = np.divide((np.random.random((batch_size, inputsize)) - training_mean),training_sigma)\n",
    "        yield (temp, y_true)\n",
    "        \n",
    "def generate_x_test():\n",
    "    while True:\n",
    "        temp = np.divide((np.random.random((batch_size_test, inputsize)) - training_mean),training_sigma)\n",
    "        yield (temp,)\n",
    "        \n",
    "def single_evaluation(model):\n",
    "    \"\"\" Evaluates the model and returns the resulting distribution as a numpy array. \"\"\"\n",
    "    test_pred = model.predict(generate_x_test(), steps=1, verbose=0)#model.predict_generator(generate_x_test(), steps=1, max_queue_size=10, workers=1, use_multiprocessing=False, verbose=0)\n",
    "    result = K.eval(customLoss_distr(test_pred))\n",
    "    return result"
   ]
  },
  {
   "cell_type": "code",
   "execution_count": 548,
   "id": "d5b4805c-dba9-42ae-8aa5-88a589e64310",
   "metadata": {
    "tags": []
   },
   "outputs": [],
   "source": [
    "#generate_xy_batch(y_true2)"
   ]
  },
  {
   "cell_type": "code",
   "execution_count": 550,
   "id": "e3b73566-4e3a-41a6-a71d-d348ece3ef78",
   "metadata": {
    "tags": []
   },
   "outputs": [
    {
     "data": {
      "text/plain": [
       "'\\nif Optimizer.lower() == \\'adadelta\\':\\n    optimizer = tf.optimizers.Adadelta(learning_rate=lr, rho=0.95, epsilon=None)\\nelif Optimizer.lower() == \\'sgd\\':\\n    optimizer = tf.keras.optimizers.legacy.SGD(learning_rate=lr, decay=decay, momentum=momentum, nesterov=True)\\nelse:\\n    optimizer = tf.keras.optimizers.legacy.SGD(learning_rate=lr, decay=decay, momentum=momentum, nesterov=True)\\n    print(\"\\n\\nWARNING!!! Optimizer {} not recognized. Please implement it if you want to use it. Using SGD instead.\\n\\n\".format(optimizer))\\n    Optimizer = \\'sgd\\' # set it for consistency.\\n'"
      ]
     },
     "execution_count": 550,
     "metadata": {},
     "output_type": "execute_result"
    }
   ],
   "source": [
    "'''\n",
    "if Optimizer.lower() == 'adadelta':\n",
    "    optimizer = tf.optimizers.Adadelta(learning_rate=lr, rho=0.95, epsilon=None)\n",
    "elif Optimizer.lower() == 'sgd':\n",
    "    optimizer = tf.keras.optimizers.legacy.SGD(learning_rate=lr, decay=decay, momentum=momentum, nesterov=True)\n",
    "else:\n",
    "    optimizer = tf.keras.optimizers.legacy.SGD(learning_rate=lr, decay=decay, momentum=momentum, nesterov=True)\n",
    "    print(\"\\n\\nWARNING!!! Optimizer {} not recognized. Please implement it if you want to use it. Using SGD instead.\\n\\n\".format(optimizer))\n",
    "    Optimizer = 'sgd' # set it for consistency.\n",
    "'''"
   ]
  },
  {
   "cell_type": "code",
   "execution_count": 619,
   "id": "5f2f9b4c-85b0-4cd7-968f-66404ee45538",
   "metadata": {},
   "outputs": [],
   "source": [
    "# Set up generator for X and Y data\n",
    "training_mean = 0.5\n",
    "training_sigma = 0.28867513459 #= np.sqrt(1/12)\n",
    "batch_size_test = int(no_of_validation_batches*batch_size)"
   ]
  },
  {
   "cell_type": "code",
   "execution_count": 621,
   "id": "483aac8b-e480-4874-89dd-9d22fffec2f0",
   "metadata": {
    "tags": []
   },
   "outputs": [
    {
     "data": {
      "text/plain": [
       "(0.85, v, 0.575)"
      ]
     },
     "execution_count": 621,
     "metadata": {},
     "output_type": "execute_result"
    }
   ],
   "source": [
    "para_u[0],v,para_w[0]"
   ]
  },
  {
   "cell_type": "code",
   "execution_count": 623,
   "id": "e8f1c02a-0bef-4476-9913-d4075dee5691",
   "metadata": {},
   "outputs": [],
   "source": [
    "p_target1 = distribution_gen(MT1, para_u[0], 1, para_w[0]) #target_distributions[id,:] # current target distribution\n",
    "y_true1 = np.array([p_target1 for _ in range(batch_size)]) # keras technicality that in supervised training y_true should have batch_size dimension as well\n",
    "\n",
    "p_target2 = distribution_gen(MT2, para_u[0], 1, para_w[0])\n",
    "\n",
    "'''\n",
    "np.array([4.84490338e-05, 5.72109311e-05, 2.96825440e-02, 1.08818756e-02,\n",
    "       1.07693304e-05, 1.79446979e-05, 6.11958733e-02, 2.33358008e-02,\n",
    "       1.22736068e-02, 2.37037645e-02, 4.93859479e-05, 4.71056737e-05,\n",
    "       2.99030924e-02, 6.07934619e-02, 9.61739279e-05, 8.17579494e-05,\n",
    "       9.94515722e-05, 2.41863905e-04, 2.29006273e-02, 6.02565600e-02,\n",
    "       3.84679406e-05, 1.26851461e-04, 1.16993011e-02, 2.98972511e-02,\n",
    "       6.13045158e-02, 2.99812825e-02, 7.03848345e-05, 6.05371388e-05,\n",
    "       2.27836029e-02, 1.03994840e-02, 1.37134222e-04, 8.92459138e-05,\n",
    "       2.75854570e-02, 4.40084437e-02, 1.11978705e-04, 6.95827766e-05,\n",
    "       2.57101556e-02, 2.76117147e-02, 4.43161662e-05, 3.35680088e-05,\n",
    "       6.75419797e-05, 1.26445026e-04, 5.13488412e-02, 2.60624003e-02,\n",
    "       1.11031513e-04, 1.83923723e-04, 2.53524214e-02, 2.50849046e-02,\n",
    "       2.76376726e-02, 2.50778248e-02, 1.39950309e-04, 1.29779495e-04,\n",
    "       4.53717957e-02, 2.79488125e-02, 4.30807886e-05, 3.27888592e-05,\n",
    "       1.53943965e-05, 1.54507434e-05, 2.50163518e-02, 2.49071673e-02,\n",
    "       3.56931014e-05, 5.42204616e-05, 2.42344320e-02, 4.85458508e-02])\n",
    "'''\n",
    "'''\n",
    "np.array([4.84490338e-05, 5.72109311e-05, 2.01853037e-03, 1.67821380e-02,\n",
    "       1.07693304e-05, 1.79446979e-05, 1.69384026e-02, 2.07870115e-03,\n",
    "       1.53904068e-02, 1.71073745e-03, 4.93859479e-05, 4.71056737e-05,\n",
    "       2.23907877e-03, 1.65359912e-02, 9.61739279e-05, 8.17579494e-05,\n",
    "       9.94515722e-05, 2.41863905e-04, 2.51387465e-03, 1.59990893e-02,\n",
    "       3.84679406e-05, 1.26851461e-04, 1.59647125e-02, 2.23323747e-03,\n",
    "       1.70470451e-02, 2.31726887e-03, 7.03848345e-05, 6.05371388e-05,\n",
    "       2.63089905e-03, 1.72645296e-02, 1.37134222e-04, 8.92459138e-05,\n",
    "       7.85566281e-05, 2.49026997e-04, 1.11978705e-04, 6.95827766e-05,\n",
    "       2.95653653e-04, 5.22989281e-05, 4.43161662e-05, 3.35680088e-05,\n",
    "       6.75419797e-05, 1.26445026e-04, 1.53399745e-03, 1.00068155e-03,\n",
    "       1.11031513e-04, 1.83923723e-04, 2.90702650e-04, 2.31858500e-05,\n",
    "       2.63410281e-05, 3.36677147e-04, 1.39950309e-04, 1.29779495e-04,\n",
    "       1.11432500e-03, 2.84798872e-04, 4.30807886e-05, 3.27888592e-05,\n",
    "       1.53943965e-05, 1.54507434e-05, 4.53669500e-05, 1.54551450e-04,\n",
    "       3.56931014e-05, 5.42204616e-05, 8.27286750e-04, 1.26899295e-03])\n",
    "'''\n",
    "'''\n",
    "np.array([-1.29830423e-04, -5.26110384e-03, -1.02751106e-02,  4.79146465e-03,\n",
    "       -2.50750127e-05, -1.21291669e-06,  3.74972449e-03,  1.77385848e-03,\n",
    "        2.79449923e-02,  1.12831127e-02, -1.29288661e-02, -1.29354081e-02,\n",
    "        2.04796479e-02,  1.06648538e-03, -1.49203624e-05, -5.98696570e-05,\n",
    "       -1.88732811e-04, -1.12325406e-03, -8.77275129e-03,  1.83414658e-02,\n",
    "       -1.45911999e-04, -5.16746397e-04, -1.54025033e-02,  9.10826216e-03,\n",
    "        2.21343087e-02,  1.87131609e-02, -4.03142009e-03, -4.03435877e-03,\n",
    "        2.33886163e-02,  1.99684482e-02, -2.85404647e-04, -5.35180516e-05,\n",
    "       -5.06813768e-02, -7.35955834e-02, -1.44350473e-03, -6.14983146e-04,\n",
    "       -1.28986295e-02,  2.76627840e-02, -3.82741131e-04, -2.34728359e-04,\n",
    "       -8.13250649e-03, -7.86186353e-03,  4.12800433e-02,  1.71285644e-02,\n",
    "       -3.92991288e-03, -2.10087182e-02,  1.80906844e-02,  2.66005656e-03,\n",
    "       -5.91799993e-03, -1.09086353e-02, -3.84998799e-04, -1.49338579e-04,\n",
    "        1.72751080e-02, -5.78669795e-04, -8.07688262e-04, -5.09705784e-04,\n",
    "       -9.92663614e-03, -1.08054531e-02,  1.70461703e-02,  1.71424886e-02,\n",
    "       -4.44783627e-03, -2.16297593e-02,  4.07449341e-03, -2.20759846e-02]) \n",
    "'''\n",
    "#distribution_gen(MT2, para_u[0], 1, para_w[0]) #target_distributions[id,:] # current target distribution\n",
    "y_true2 = np.array([p_target2 for _ in range(batch_size)]) # keras technicality that in supervised training y_true should have batch_size dimension as well\n",
    "\n",
    "p_target3 = distribution_gen(MT3, para_u[0], 1, para_w[0]) #target_distributions[id,:] # current target distribution\n",
    "y_true3 = np.array([p_target3 for _ in range(batch_size)]) # keras technicality that in supervised training y_true should have batch_size dimension as well"
   ]
  },
  {
   "cell_type": "code",
   "execution_count": 624,
   "id": "202436eb-12ca-4ff1-ad05-959471129c04",
   "metadata": {},
   "outputs": [
    {
     "name": "stdout",
     "output_type": "stream",
     "text": [
      "[0.         0.         0.02766401 0.02766401 0.         0.\n",
      " 0.04425747 0.0254145  0.02766401 0.0254145  0.         0.\n",
      " 0.02766401 0.04425747 0.         0.         0.         0.\n",
      " 0.0254145  0.04425747 0.         0.         0.02766401 0.02766401\n",
      " 0.04425747 0.02766401 0.         0.         0.0254145  0.02766401\n",
      " 0.         0.         0.02766401 0.04425747 0.         0.\n",
      " 0.0254145  0.02766401 0.         0.         0.         0.\n",
      " 0.04981484 0.02506172 0.         0.         0.02506172 0.02506172\n",
      " 0.02766401 0.0254145  0.         0.         0.04425747 0.02766401\n",
      " 0.         0.         0.         0.         0.02506172 0.02506172\n",
      " 0.         0.         0.02506172 0.04981484] (64,)\n",
      "\n",
      "\n",
      "(800, 64)\n"
     ]
    }
   ],
   "source": [
    "print(y_true2[0],y_true2[0].shape)\n",
    "print('\\n')\n",
    "\n",
    "print(y_true2.shape)"
   ]
  },
  {
   "cell_type": "code",
   "execution_count": 625,
   "id": "17b8335a-61bf-4f5c-ab99-60d5b721510a",
   "metadata": {
    "tags": []
   },
   "outputs": [
    {
     "name": "stdout",
     "output_type": "stream",
     "text": [
      "(8000, 3)\n"
     ]
    }
   ],
   "source": [
    "temp = np.divide((np.random.normal(loc=0, scale=1, size=(8000, 3)) - training_mean),training_sigma)\n",
    "X_train = (temp - temp.min()) / (temp.max() - temp.min())\n",
    "print(X_train.shape)"
   ]
  },
  {
   "cell_type": "code",
   "execution_count": 63,
   "id": "de0d37e1-fc78-4e94-894b-f72432794d54",
   "metadata": {
    "tags": []
   },
   "outputs": [
    {
     "ename": "TypeError",
     "evalue": "TensorFlowTrainer.fit() got an unexpected keyword argument 'max_queue_size'",
     "output_type": "error",
     "traceback": [
      "\u001b[1;31m---------------------------------------------------------------------------\u001b[0m",
      "\u001b[1;31mTypeError\u001b[0m                                 Traceback (most recent call last)",
      "Cell \u001b[1;32mIn[63], line 3\u001b[0m\n\u001b[0;32m      1\u001b[0m model1\u001b[38;5;241m.\u001b[39mcompile(optimizer\u001b[38;5;241m=\u001b[39moptimizer, loss\u001b[38;5;241m=\u001b[39mcustomLoss, metrics\u001b[38;5;241m=\u001b[39m[\u001b[38;5;124m'\u001b[39m\u001b[38;5;124maccuracy\u001b[39m\u001b[38;5;124m'\u001b[39m])\n\u001b[1;32m----> 3\u001b[0m model1\u001b[38;5;241m.\u001b[39mfit(generate_xy_batch(y_true1), steps_per_epoch\u001b[38;5;241m=\u001b[39mno_of_batches, epochs\u001b[38;5;241m=\u001b[39m\u001b[38;5;241m1\u001b[39m, verbose\u001b[38;5;241m=\u001b[39m\u001b[38;5;241m1\u001b[39m, validation_data\u001b[38;5;241m=\u001b[39mgenerate_xy_batch(y_true1), validation_steps\u001b[38;5;241m=\u001b[39mno_of_validation_batches, max_queue_size\u001b[38;5;241m=\u001b[39m\u001b[38;5;241m10\u001b[39m, workers\u001b[38;5;241m=\u001b[39m\u001b[38;5;241m1\u001b[39m, use_multiprocessing\u001b[38;5;241m=\u001b[39m\u001b[38;5;28;01mFalse\u001b[39;00m, shuffle\u001b[38;5;241m=\u001b[39m\u001b[38;5;28;01mFalse\u001b[39;00m, initial_epoch\u001b[38;5;241m=\u001b[39m\u001b[38;5;241m0\u001b[39m)\n",
      "File \u001b[1;32m~\\anaconda3\\Lib\\site-packages\\keras\\src\\utils\\traceback_utils.py:122\u001b[0m, in \u001b[0;36mfilter_traceback.<locals>.error_handler\u001b[1;34m(*args, **kwargs)\u001b[0m\n\u001b[0;32m    119\u001b[0m     filtered_tb \u001b[38;5;241m=\u001b[39m _process_traceback_frames(e\u001b[38;5;241m.\u001b[39m__traceback__)\n\u001b[0;32m    120\u001b[0m     \u001b[38;5;66;03m# To get the full stack trace, call:\u001b[39;00m\n\u001b[0;32m    121\u001b[0m     \u001b[38;5;66;03m# `keras.config.disable_traceback_filtering()`\u001b[39;00m\n\u001b[1;32m--> 122\u001b[0m     \u001b[38;5;28;01mraise\u001b[39;00m e\u001b[38;5;241m.\u001b[39mwith_traceback(filtered_tb) \u001b[38;5;28;01mfrom\u001b[39;00m \u001b[38;5;28;01mNone\u001b[39;00m\n\u001b[0;32m    123\u001b[0m \u001b[38;5;28;01mfinally\u001b[39;00m:\n\u001b[0;32m    124\u001b[0m     \u001b[38;5;28;01mdel\u001b[39;00m filtered_tb\n",
      "File \u001b[1;32m~\\anaconda3\\Lib\\site-packages\\keras\\src\\utils\\traceback_utils.py:117\u001b[0m, in \u001b[0;36mfilter_traceback.<locals>.error_handler\u001b[1;34m(*args, **kwargs)\u001b[0m\n\u001b[0;32m    115\u001b[0m filtered_tb \u001b[38;5;241m=\u001b[39m \u001b[38;5;28;01mNone\u001b[39;00m\n\u001b[0;32m    116\u001b[0m \u001b[38;5;28;01mtry\u001b[39;00m:\n\u001b[1;32m--> 117\u001b[0m     \u001b[38;5;28;01mreturn\u001b[39;00m fn(\u001b[38;5;241m*\u001b[39margs, \u001b[38;5;241m*\u001b[39m\u001b[38;5;241m*\u001b[39mkwargs)\n\u001b[0;32m    118\u001b[0m \u001b[38;5;28;01mexcept\u001b[39;00m \u001b[38;5;167;01mException\u001b[39;00m \u001b[38;5;28;01mas\u001b[39;00m e:\n\u001b[0;32m    119\u001b[0m     filtered_tb \u001b[38;5;241m=\u001b[39m _process_traceback_frames(e\u001b[38;5;241m.\u001b[39m__traceback__)\n",
      "\u001b[1;31mTypeError\u001b[0m: TensorFlowTrainer.fit() got an unexpected keyword argument 'max_queue_size'"
     ]
    }
   ],
   "source": [
    "model1.compile(optimizer=optimizer, loss=customLoss, metrics=['accuracy'])\n",
    "\n",
    "model1.fit(generate_xy_batch(y_true1), steps_per_epoch=no_of_batches, epochs=1, verbose=1, validation_data=generate_xy_batch(y_true1), validation_steps=no_of_validation_batches, class_weight=None, max_queue_size=10, workers=1, use_multiprocessing=False, shuffle=False, initial_epoch=0)\n",
    "#print(model,history.history[\"loss\"],history.history[\"accuracy\"],history.history[\"val_loss\"],history.history[\"val_accuracy\"])"
   ]
  },
  {
   "cell_type": "code",
   "execution_count": 631,
   "id": "683d9e78-7ca0-49f4-b83e-d22e845ee553",
   "metadata": {
    "tags": []
   },
   "outputs": [
    {
     "name": "stdout",
     "output_type": "stream",
     "text": [
      "\u001b[1m1000/1000\u001b[0m \u001b[32m━━━━━━━━━━━━━━━━━━━━\u001b[0m\u001b[37m\u001b[0m \u001b[1m17s\u001b[0m 8ms/step - loss: 0.8918 - val_loss: 0.8389\n"
     ]
    },
    {
     "data": {
      "text/plain": [
       "<keras.src.callbacks.history.History at 0x26dcf596650>"
      ]
     },
     "execution_count": 631,
     "metadata": {},
     "output_type": "execute_result"
    }
   ],
   "source": [
    "model2.compile(optimizer='adadelta', loss=customLoss)\n",
    "\n",
    "model2.fit(generate_xy_batch(y_true2), steps_per_epoch=no_of_batches, epochs=1, verbose=1, validation_data=generate_xy_batch(y_true2), validation_steps=no_of_validation_batches, class_weight=None, shuffle=False, initial_epoch=0)\n",
    "#model2.fit(generate_xy_batch(y_true2), steps_per_epoch=10000, epochs=10)\n",
    "#print(model,history.history[\"loss\"],history.history[\"accuracy\"],history.history[\"val_loss\"],history.history[\"val_accuracy\"])"
   ]
  },
  {
   "cell_type": "code",
   "execution_count": 633,
   "id": "0528e069-667b-4e4d-a030-5607615ccd22",
   "metadata": {
    "tags": []
   },
   "outputs": [],
   "source": [
    "temp = np.divide((np.random.random((batch_size_test, inputsize)) - training_mean),training_sigma)"
   ]
  },
  {
   "cell_type": "code",
   "execution_count": 635,
   "id": "c4ee8f06-8daa-4f3e-a668-92fb9586539e",
   "metadata": {
    "tags": []
   },
   "outputs": [
    {
     "name": "stdout",
     "output_type": "stream",
     "text": [
      "\u001b[1m2500/2500\u001b[0m \u001b[32m━━━━━━━━━━━━━━━━━━━━\u001b[0m\u001b[37m\u001b[0m \u001b[1m5s\u001b[0m 2ms/step\n"
     ]
    }
   ],
   "source": [
    "result2 = K.eval(customLoss_distr(model2.predict(temp)))"
   ]
  },
  {
   "cell_type": "code",
   "execution_count": 636,
   "id": "42ab24e0-0f14-450b-80a2-b3a1b9be891a",
   "metadata": {},
   "outputs": [
    {
     "data": {
      "text/plain": [
       "array([0.00039312, 0.0012895 , 0.0006343 , 0.00102008, 0.00581347,\n",
       "       0.02316534, 0.01442963, 0.02983239, 0.00665796, 0.02585874,\n",
       "       0.01774792, 0.03230752, 0.00345897, 0.01163535, 0.00535865,\n",
       "       0.00900146, 0.00055357, 0.0018619 , 0.00091061, 0.00149355,\n",
       "       0.0076976 , 0.0316241 , 0.01907711, 0.03953547, 0.0088308 ,\n",
       "       0.03538891, 0.0239509 , 0.04338359, 0.00454356, 0.01583273,\n",
       "       0.0072034 , 0.01228743, 0.00044356, 0.00149884, 0.00075692,\n",
       "       0.00126199, 0.0044121 , 0.01788669, 0.01127376, 0.02332686,\n",
       "       0.00519507, 0.02064051, 0.01506488, 0.02723048, 0.00256448,\n",
       "       0.00891043, 0.00440191, 0.00759901, 0.00105476, 0.00390999,\n",
       "       0.00254011, 0.00456781, 0.0095403 , 0.0413379 , 0.03135392,\n",
       "       0.06310231, 0.01144437, 0.0485208 , 0.04503036, 0.08018626,\n",
       "       0.005379  , 0.02035022, 0.01283053, 0.02360413], dtype=float32)"
      ]
     },
     "execution_count": 636,
     "metadata": {},
     "output_type": "execute_result"
    }
   ],
   "source": [
    "result2"
   ]
  },
  {
   "cell_type": "code",
   "execution_count": 584,
   "id": "9ba8116a-5c16-4fae-8283-9063d2d03ed4",
   "metadata": {
    "tags": []
   },
   "outputs": [],
   "source": [
    "#resultf2 = result2\n",
    "#resultf2 = (1/2)*prev0 + (1/2)*result2\n",
    "#resultf2 = (1/3)*prev0 + (1/3)*prev1 + (1/3)*result2\n",
    "#resultf2 = (1/4)*prev0 + (1/4)*prev1 + (1/4)*prev2 + (1/4)*result2\n",
    "#           (1/5)*prev0 + (1/5)*prev1 + (1/5)*prev2 + (2/5)*result2\n"
   ]
  },
  {
   "cell_type": "code",
   "execution_count": 639,
   "id": "710f1681-bced-4f29-b1b7-23e2ca5f4bdd",
   "metadata": {
    "tags": []
   },
   "outputs": [],
   "source": [
    "resultf2 = (1/6)*prev0 + (1/6)*prev1 + (1/6)*prev2 + (1/6)*prev3 + (2/6)*result2"
   ]
  },
  {
   "cell_type": "code",
   "execution_count": 643,
   "id": "58e4f7b8-bfb9-422a-a0a4-e5b97dea8a59",
   "metadata": {
    "tags": []
   },
   "outputs": [
    {
     "data": {
      "text/plain": [
       "0.999999036927279"
      ]
     },
     "execution_count": 643,
     "metadata": {},
     "output_type": "execute_result"
    }
   ],
   "source": [
    "np.sum(resultf2)"
   ]
  },
  {
   "cell_type": "code",
   "execution_count": 645,
   "id": "0c4a74b0-0f7d-4d76-81e7-26b3297c1a96",
   "metadata": {
    "tags": []
   },
   "outputs": [
    {
     "data": {
      "text/plain": [
       "array([0.00039312, 0.0012895 , 0.0006343 , 0.00102008, 0.00581347,\n",
       "       0.02316534, 0.01442963, 0.02983239, 0.00665796, 0.02585874,\n",
       "       0.01774792, 0.03230752, 0.00345897, 0.01163535, 0.00535865,\n",
       "       0.00900146, 0.00055357, 0.0018619 , 0.00091061, 0.00149355,\n",
       "       0.0076976 , 0.0316241 , 0.01907711, 0.03953547, 0.0088308 ,\n",
       "       0.03538891, 0.0239509 , 0.04338359, 0.00454356, 0.01583273,\n",
       "       0.0072034 , 0.01228743, 0.00044356, 0.00149884, 0.00075692,\n",
       "       0.00126199, 0.0044121 , 0.01788669, 0.01127376, 0.02332686,\n",
       "       0.00519507, 0.02064051, 0.01506488, 0.02723048, 0.00256448,\n",
       "       0.00891043, 0.00440191, 0.00759901, 0.00105476, 0.00390999,\n",
       "       0.00254011, 0.00456781, 0.0095403 , 0.0413379 , 0.03135392,\n",
       "       0.06310231, 0.01144437, 0.0485208 , 0.04503036, 0.08018626,\n",
       "       0.005379  , 0.02035022, 0.01283053, 0.02360413], dtype=float32)"
      ]
     },
     "execution_count": 645,
     "metadata": {},
     "output_type": "execute_result"
    }
   ],
   "source": [
    "result2"
   ]
  },
  {
   "cell_type": "code",
   "execution_count": 649,
   "id": "1807a9ba-31f9-450e-85fc-b7b964f4dc0c",
   "metadata": {
    "tags": []
   },
   "outputs": [
    {
     "name": "stdout",
     "output_type": "stream",
     "text": [
      "0.4742111716703924\n",
      "0.2651264151285409\n",
      "0.19861090650966284\n",
      "0.1704256722980418\n",
      "0.15278053887192267\n"
     ]
    }
   ],
   "source": [
    "#print(result2)\n",
    "\n",
    "'''\n",
    "np.array([0.0027963 , 0.00223649, 0.02415219, 0.03332567, 0.00331664,\n",
    "       0.00263517, 0.03132793, 0.02174394, 0.03216644, 0.0252089 ,\n",
    "       0.00399687, 0.00135159, 0.0254935 , 0.0311749 , 0.00341851,\n",
    "       0.00141429, 0.00358217, 0.00266436, 0.02218839, 0.03515516,\n",
    "       0.00450267, 0.00290245, 0.03314303, 0.02458171, 0.03168615,\n",
    "       0.02520774, 0.00517148, 0.00195915, 0.02390235, 0.03159769,\n",
    "       0.00332027, 0.00254091, 0.02505739, 0.03162501, 0.00398397,\n",
    "       0.00226348, 0.032371  , 0.02474476, 0.00398333, 0.00154554,\n",
    "       0.00418511, 0.00272539, 0.03784898, 0.0264193 , 0.00363122,\n",
    "       0.00268301, 0.02504938, 0.02299384, 0.02431803, 0.03383311,\n",
    "       0.00316635, 0.00224433, 0.03354033, 0.02386031, 0.00405913,\n",
    "       0.00120287, 0.00325194, 0.00209784, 0.02354277, 0.02275591,\n",
    "       0.00407469, 0.00290671, 0.02288552, 0.0411414 ])\n",
    "'''\n",
    "'''\n",
    "np.array([0.00118974, 0.00165317, 0.02751328, 0.03222207, 0.00169554,\n",
    "       0.00110012, 0.03819723, 0.01997476, 0.02996528, 0.02280546,\n",
    "       0.00149149, 0.00057657, 0.03063829, 0.0361647 , 0.00178836,\n",
    "       0.00133297, 0.00189026, 0.00258071, 0.02068136, 0.03797869,\n",
    "       0.00252964, 0.00193173, 0.02948297, 0.02814261, 0.03640948,\n",
    "       0.03134206, 0.00133283, 0.00109555, 0.0225043 , 0.02907604,\n",
    "       0.0012045 , 0.00225923, 0.02427804, 0.0331319 , 0.00173184,\n",
    "       0.00128923, 0.03129499, 0.02503473, 0.00209055, 0.00078194,\n",
    "       0.00154316, 0.00114406, 0.04327075, 0.02804764, 0.00145523,\n",
    "       0.00207112, 0.02612021, 0.02579576, 0.02490802, 0.03153522,\n",
    "       0.0017955 , 0.00167335, 0.03275819, 0.02346124, 0.00206091,\n",
    "       0.00109701, 0.00205087, 0.00148529, 0.02680098, 0.02602656,\n",
    "       0.00221112, 0.00275351, 0.0275034 , 0.04395898])\n",
    "'''\n",
    "print(np_euclidean_distance(prev0, p_target2))     \n",
    "print(np_euclidean_distance((1/2)*prev0 + (1/2)*prev1, p_target2))   \n",
    "print(np_euclidean_distance((1/3)*prev0 + (1/3)*prev1 + (1/3)*prev2, p_target2))\n",
    "print(np_euclidean_distance((1/4)*prev0 + (1/4)*prev1 + (1/4)*prev2 + (1/4)*result2, p_target2))\n",
    "print(np_euclidean_distance(resultf2, p_target2))"
   ]
  },
  {
   "cell_type": "code",
   "execution_count": null,
   "id": "d0f61b75-c3f5-4933-baf1-d15caf651c46",
   "metadata": {},
   "outputs": [],
   "source": [
    "#0.0023277584998357735\n",
    "#0.014301904515801746\n",
    "#0.06613845020939989"
   ]
  },
  {
   "cell_type": "code",
   "execution_count": 528,
   "id": "6ee993a7-8dbd-4f5f-a50d-2c98318dc032",
   "metadata": {
    "tags": []
   },
   "outputs": [
    {
     "ename": "NameError",
     "evalue": "name 'float64' is not defined",
     "output_type": "error",
     "traceback": [
      "\u001b[1;31m---------------------------------------------------------------------------\u001b[0m",
      "\u001b[1;31mNameError\u001b[0m                                 Traceback (most recent call last)",
      "Cell \u001b[1;32mIn[528], line 1\u001b[0m\n\u001b[1;32m----> 1\u001b[0m result2 \u001b[38;5;241m=\u001b[39m np\u001b[38;5;241m.\u001b[39marray(result2,dtype \u001b[38;5;241m=\u001b[39m float64)\n",
      "\u001b[1;31mNameError\u001b[0m: name 'float64' is not defined"
     ]
    }
   ],
   "source": [
    "result2 = np.array(result2,dtype = float64)"
   ]
  },
  {
   "cell_type": "code",
   "execution_count": 524,
   "id": "5d1924b0-36b7-4f2c-a889-5f1ac0e8a723",
   "metadata": {
    "tags": []
   },
   "outputs": [
    {
     "ename": "TypeError",
     "evalue": "`x` and `y` must have the same dtype, got tf.float32 != tf.float64.",
     "output_type": "error",
     "traceback": [
      "\u001b[1;31m---------------------------------------------------------------------------\u001b[0m",
      "\u001b[1;31mTypeError\u001b[0m                                 Traceback (most recent call last)",
      "Cell \u001b[1;32mIn[524], line 1\u001b[0m\n\u001b[1;32m----> 1\u001b[0m \u001b[38;5;28mprint\u001b[39m(keras_distance(result2, p_target2))\n",
      "Cell \u001b[1;32mIn[486], line 32\u001b[0m, in \u001b[0;36mkeras_distance\u001b[1;34m(p, q)\u001b[0m\n\u001b[0;32m     30\u001b[0m     p \u001b[38;5;241m=\u001b[39m K\u001b[38;5;241m.\u001b[39mclip(p, K\u001b[38;5;241m.\u001b[39mepsilon(), \u001b[38;5;241m1\u001b[39m)\n\u001b[0;32m     31\u001b[0m     q \u001b[38;5;241m=\u001b[39m K\u001b[38;5;241m.\u001b[39mclip(q, K\u001b[38;5;241m.\u001b[39mepsilon(), \u001b[38;5;241m1\u001b[39m)\n\u001b[1;32m---> 32\u001b[0m     \u001b[38;5;28;01mreturn\u001b[39;00m K\u001b[38;5;241m.\u001b[39msum(p \u001b[38;5;241m*\u001b[39m K\u001b[38;5;241m.\u001b[39mlog(p \u001b[38;5;241m/\u001b[39m q), axis\u001b[38;5;241m=\u001b[39m\u001b[38;5;241m-\u001b[39m\u001b[38;5;241m1\u001b[39m)\n\u001b[0;32m     33\u001b[0m \u001b[38;5;28;01melif\u001b[39;00m loss\u001b[38;5;241m.\u001b[39mlower() \u001b[38;5;241m==\u001b[39m \u001b[38;5;124m'\u001b[39m\u001b[38;5;124mjs\u001b[39m\u001b[38;5;124m'\u001b[39m:\n\u001b[0;32m     34\u001b[0m     p \u001b[38;5;241m=\u001b[39m K\u001b[38;5;241m.\u001b[39mclip(p, K\u001b[38;5;241m.\u001b[39mepsilon(), \u001b[38;5;241m1\u001b[39m)\n",
      "File \u001b[1;32m~\\anaconda3\\Lib\\site-packages\\tensorflow\\python\\util\\traceback_utils.py:153\u001b[0m, in \u001b[0;36mfilter_traceback.<locals>.error_handler\u001b[1;34m(*args, **kwargs)\u001b[0m\n\u001b[0;32m    151\u001b[0m \u001b[38;5;28;01mexcept\u001b[39;00m \u001b[38;5;167;01mException\u001b[39;00m \u001b[38;5;28;01mas\u001b[39;00m e:\n\u001b[0;32m    152\u001b[0m   filtered_tb \u001b[38;5;241m=\u001b[39m _process_traceback_frames(e\u001b[38;5;241m.\u001b[39m__traceback__)\n\u001b[1;32m--> 153\u001b[0m   \u001b[38;5;28;01mraise\u001b[39;00m e\u001b[38;5;241m.\u001b[39mwith_traceback(filtered_tb) \u001b[38;5;28;01mfrom\u001b[39;00m \u001b[38;5;28;01mNone\u001b[39;00m\n\u001b[0;32m    154\u001b[0m \u001b[38;5;28;01mfinally\u001b[39;00m:\n\u001b[0;32m    155\u001b[0m   \u001b[38;5;28;01mdel\u001b[39;00m filtered_tb\n",
      "File \u001b[1;32m~\\anaconda3\\Lib\\site-packages\\tensorflow\\python\\ops\\math_ops.py:1412\u001b[0m, in \u001b[0;36m_truediv_python3\u001b[1;34m(x, y, name)\u001b[0m\n\u001b[0;32m   1410\u001b[0m y_dtype \u001b[38;5;241m=\u001b[39m y\u001b[38;5;241m.\u001b[39mdtype\u001b[38;5;241m.\u001b[39mbase_dtype\n\u001b[0;32m   1411\u001b[0m \u001b[38;5;28;01mif\u001b[39;00m x_dtype \u001b[38;5;241m!=\u001b[39m y_dtype:\n\u001b[1;32m-> 1412\u001b[0m   \u001b[38;5;28;01mraise\u001b[39;00m \u001b[38;5;167;01mTypeError\u001b[39;00m(\u001b[38;5;124mf\u001b[39m\u001b[38;5;124m\"\u001b[39m\u001b[38;5;124m`x` and `y` must have the same dtype, \u001b[39m\u001b[38;5;124m\"\u001b[39m\n\u001b[0;32m   1413\u001b[0m                   \u001b[38;5;124mf\u001b[39m\u001b[38;5;124m\"\u001b[39m\u001b[38;5;124mgot \u001b[39m\u001b[38;5;132;01m{\u001b[39;00mx_dtype\u001b[38;5;132;01m!r}\u001b[39;00m\u001b[38;5;124m != \u001b[39m\u001b[38;5;132;01m{\u001b[39;00my_dtype\u001b[38;5;132;01m!r}\u001b[39;00m\u001b[38;5;124m.\u001b[39m\u001b[38;5;124m\"\u001b[39m)\n\u001b[0;32m   1414\u001b[0m \u001b[38;5;28;01mtry\u001b[39;00m:\n\u001b[0;32m   1415\u001b[0m   dtype \u001b[38;5;241m=\u001b[39m _TRUEDIV_TABLE[x_dtype]\n",
      "\u001b[1;31mTypeError\u001b[0m: `x` and `y` must have the same dtype, got tf.float32 != tf.float64."
     ]
    }
   ],
   "source": [
    "print(keras_distance(result2, p_target2))"
   ]
  },
  {
   "cell_type": "code",
   "execution_count": 61,
   "id": "697767e0-cfda-415a-bb21-5ca6e0b92b6a",
   "metadata": {
    "tags": []
   },
   "outputs": [],
   "source": [
    "result2 = np.array([7.4371533e-03, 1.0504985e-03, 3.6033962e-04, 6.4985375e-03,\n",
    "       2.9374961e-02, 2.3646660e-03, 9.0898835e-04, 2.8947687e-03,\n",
    "       6.3548714e-02, 2.1404434e-02, 4.3443176e-03, 1.3741829e-02,\n",
    "       4.4568554e-02, 6.6137603e-03, 5.8180275e-03, 7.2148041e-04,\n",
    "       3.2480338e-03, 1.4673934e-03, 4.2231643e-04, 2.4658417e-02,\n",
    "       2.2812916e-02, 2.6094280e-03, 2.6674077e-04, 1.5609115e-02,\n",
    "       4.6537023e-02, 4.2150170e-02, 1.1308614e-02, 2.2210881e-02,\n",
    "       6.0785040e-02, 3.7970934e-02, 1.7379712e-02, 1.0956211e-02,\n",
    "       2.7546093e-05, 1.0932161e-03, 5.1050195e-03, 9.8602558e-03,\n",
    "       3.9327382e-03, 2.8672200e-02, 1.1514928e-02, 8.3181523e-03,\n",
    "       2.0091708e-03, 1.1300276e-02, 1.1304368e-01, 4.0387943e-02,\n",
    "       8.0163742e-04, 1.9267244e-02, 3.9186899e-02, 4.8629795e-03,\n",
    "       1.4284637e-04, 3.0398590e-04, 3.8571312e-04, 3.3379914e-03,\n",
    "       2.1916149e-02, 7.7460473e-03, 9.6466369e-04, 2.9519952e-03,\n",
    "       1.2535240e-02, 3.2622311e-02, 3.3828814e-02, 4.0623009e-02,\n",
    "       7.5830508e-04, 3.6543044e-03, 5.5421605e-03, 1.1374032e-03])"
   ]
  },
  {
   "cell_type": "code",
   "execution_count": 67,
   "id": "d92b1c49-93d7-487b-ad55-f8c0e0a6aa69",
   "metadata": {
    "tags": []
   },
   "outputs": [
    {
     "data": {
      "text/plain": [
       "array([-1.29830423e-04, -5.26110384e-03, -1.02751106e-02,  4.79146465e-03,\n",
       "       -2.50750127e-05, -1.21291669e-06,  3.74972449e-03,  1.77385848e-03,\n",
       "        2.79449923e-02,  1.12831127e-02, -1.29288661e-02, -1.29354081e-02,\n",
       "        2.04796479e-02,  1.06648538e-03, -1.49203624e-05, -5.98696570e-05,\n",
       "       -1.88732811e-04, -1.12325406e-03, -8.77275129e-03,  1.83414658e-02,\n",
       "       -1.45911999e-04, -5.16746397e-04, -1.54025033e-02,  9.10826216e-03,\n",
       "        2.21343087e-02,  1.87131609e-02, -4.03142009e-03, -4.03435877e-03,\n",
       "        2.33886163e-02,  1.99684482e-02, -2.85404647e-04, -5.35180516e-05,\n",
       "       -5.06813768e-02, -7.35955834e-02, -1.44350473e-03, -6.14983146e-04,\n",
       "       -1.28986295e-02,  2.76627840e-02, -3.82741131e-04, -2.34728359e-04,\n",
       "       -8.13250649e-03, -7.86186353e-03,  4.12800433e-02,  1.71285644e-02,\n",
       "       -3.92991288e-03, -2.10087182e-02,  1.80906844e-02,  2.66005656e-03,\n",
       "       -5.91799993e-03, -1.09086353e-02, -3.84998799e-04, -1.49338579e-04,\n",
       "        1.72751080e-02, -5.78669795e-04, -8.07688262e-04, -5.09705784e-04,\n",
       "       -9.92663614e-03, -1.08054531e-02,  1.70461703e-02,  1.71424886e-02,\n",
       "       -4.44783627e-03, -2.16297593e-02,  4.07449341e-03, -2.20759846e-02])"
      ]
     },
     "execution_count": 67,
     "metadata": {},
     "output_type": "execute_result"
    }
   ],
   "source": [
    "p_target2"
   ]
  },
  {
   "cell_type": "code",
   "execution_count": 65,
   "id": "4f4e57b9-f18e-4c18-a02f-133a994dfba0",
   "metadata": {
    "tags": []
   },
   "outputs": [
    {
     "data": {
      "text/plain": [
       "0.17629416283367852"
      ]
     },
     "execution_count": 65,
     "metadata": {},
     "output_type": "execute_result"
    }
   ],
   "source": [
    "#np_distance(result2, p_target2)\n",
    "np_euclidean_distance(result2, p_target2)"
   ]
  },
  {
   "cell_type": "code",
   "execution_count": null,
   "id": "de58e91e-c412-4cdb-abe2-bcbf0ee1d59a",
   "metadata": {
    "tags": []
   },
   "outputs": [],
   "source": [
    "model3.compile(optimizer=optimizer, loss=customLoss, metrics=['accuracy'])\n",
    "\n",
    "model3.fit(generate_xy_batch(y_true3), steps_per_epoch=no_of_batches, epochs=1, verbose=1, validation_data=generate_xy_batch(y_true3), validation_steps=no_of_validation_batches, class_weight=None, max_queue_size=10, workers=1, use_multiprocessing=False, shuffle=False, initial_epoch=0)\n",
    "#print(model,history.history[\"loss\"],history.history[\"accuracy\"],history.history[\"val_loss\"],history.history[\"val_accuracy\"])"
   ]
  },
  {
   "cell_type": "code",
   "execution_count": 53,
   "id": "6b18b0f1-b42b-4f6f-9b7d-a86070deeb2d",
   "metadata": {
    "tags": []
   },
   "outputs": [
    {
     "ename": "NameError",
     "evalue": "name 'model' is not defined",
     "output_type": "error",
     "traceback": [
      "\u001b[1;31m---------------------------------------------------------------------------\u001b[0m",
      "\u001b[1;31mNameError\u001b[0m                                 Traceback (most recent call last)",
      "Cell \u001b[1;32mIn[53], line 2\u001b[0m\n\u001b[0;32m      1\u001b[0m temp \u001b[38;5;241m=\u001b[39m np\u001b[38;5;241m.\u001b[39mdivide((np\u001b[38;5;241m.\u001b[39mrandom\u001b[38;5;241m.\u001b[39mrandom((batch_size_test, inputsize)) \u001b[38;5;241m-\u001b[39m training_mean),training_sigma)\n\u001b[1;32m----> 2\u001b[0m model\u001b[38;5;241m.\u001b[39mpredict(temp)\n",
      "\u001b[1;31mNameError\u001b[0m: name 'model' is not defined"
     ]
    }
   ],
   "source": []
  },
  {
   "cell_type": "code",
   "execution_count": null,
   "id": "7f91e855-6e05-42d2-b11e-51a431193f4b",
   "metadata": {},
   "outputs": [],
   "source": [
    "#result1 = single_evaluation(model1)\n",
    "#distance1 = np_distance(result1, p_target1)\n",
    "#eucldistance1 = np_euclidean_distance(result1, p_target1)\n",
    "\n",
    "result2 = single_evaluation(model2)\n",
    "distance2 = np_distance(result2, p_target2)\n",
    "eucldistance2 = np_euclidean_distance(result2, p_target2)\n",
    "\n",
    "#result3 = single_evaluation(model3)\n",
    "#distance3 = np_distance(result3, p_target3)\n",
    "#eucldistance3 = np_euclidean_distance(result3, p_target3)"
   ]
  },
  {
   "cell_type": "code",
   "execution_count": null,
   "id": "fa03c863-8fd2-4204-ae94-02dbed90cf32",
   "metadata": {
    "tags": []
   },
   "outputs": [],
   "source": [
    "p_target1,result1"
   ]
  },
  {
   "cell_type": "code",
   "execution_count": 57,
   "id": "08624711-5f02-4df1-89e7-042df71f50e4",
   "metadata": {
    "tags": []
   },
   "outputs": [
    {
     "name": "stdout",
     "output_type": "stream",
     "text": [
      "0.0065678066996998664 0.005222691738176358\n"
     ]
    }
   ],
   "source": [
    "#print(distance1, eucldistance1)\n",
    "print(distance2, eucldistance2)\n",
    "#print(distance3, eucldistance3)"
   ]
  },
  {
   "cell_type": "code",
   "execution_count": 31,
   "id": "8726dd5a-ba3a-43b1-b129-e80883136a35",
   "metadata": {
    "tags": []
   },
   "outputs": [
    {
     "data": {
      "image/png": "[encoded data removed]",
      "text/plain": [
       "<Figure size 640x480 with 1 Axes>"
      ]
     },
     "metadata": {},
     "output_type": "display_data"
    }
   ],
   "source": [
    "import matplotlib.pyplot as plt\n",
    "import numpy as np\n",
    "\n",
    "# Define three coordinates (x, y)\n",
    "x_coords = [0, 1, 2]\n",
    "y_coords = [eucldistance1, eucldistance2, eucldistance3]\n",
    "\n",
    "# Create a scatter plot for the coordinates\n",
    "plt.scatter(x_coords, y_coords, color='red', label='Coordinates')\n",
    "\n",
    "# Connect the coordinates with lines\n",
    "plt.plot(x_coords, y_coords, 'b--', label='Connecting Lines')\n",
    "\n",
    "# Calculate vertical distances\n",
    "vertical_distances = np.diff(y_coords)\n",
    "for i, (x, y) in enumerate(zip(x_coords, y_coords)):\n",
    "    plt.annotate(f\"({x}, {y})\", (x, y), textcoords=\"offset points\", xytext=(0, 5), ha='center')\n",
    "\n",
    "plt.annotate(\"Maximally entangled state\", (0, eucldistance1-0.0005), textcoords=\"offset points\", xytext=(0, 5), ha='center')\n",
    "plt.annotate(\"Classically Correlated state\", (1, eucldistance2+0.0005), textcoords=\"offset points\", xytext=(0, 5), ha='center')\n",
    "plt.annotate(\"Maximally mixed state\", (2, eucldistance3+0.0005), textcoords=\"offset points\", xytext=(0, 5), ha='center')\n",
    "\n",
    "# Set axis labels and title\n",
    "plt.xlabel('X')\n",
    "plt.ylabel('Y')\n",
    "plt.title('Coordinates and Connecting Lines')\n",
    "\n",
    "# Show the plot\n",
    "plt.legend()\n",
    "plt.show()"
   ]
  },
  {
   "cell_type": "code",
   "execution_count": 32,
   "id": "5f7a28c1-d6bc-4b28-942c-69b0e0ae1c03",
   "metadata": {},
   "outputs": [
    {
     "data": {
      "text/plain": [
       "'\\nTrial 1\\n(array([0.015625, 0.015625, 0.015625, 0.015625, 0.015625, 0.015625,\\n        0.015625, 0.015625, 0.015625, 0.015625, 0.015625, 0.015625,\\n        0.015625, 0.015625, 0.015625, 0.015625, 0.015625, 0.015625,\\n        0.015625, 0.015625, 0.015625, 0.015625, 0.015625, 0.015625,\\n        0.015625, 0.015625, 0.015625, 0.015625, 0.015625, 0.015625,\\n        0.015625, 0.015625, 0.015625, 0.015625, 0.015625, 0.015625,\\n        0.015625, 0.015625, 0.015625, 0.015625, 0.015625, 0.015625,\\n        0.015625, 0.015625, 0.015625, 0.015625, 0.015625, 0.015625,\\n        0.015625, 0.015625, 0.015625, 0.015625, 0.015625, 0.015625,\\n        0.015625, 0.015625, 0.015625, 0.015625, 0.015625, 0.015625,\\n        0.015625, 0.015625, 0.015625, 0.015625]),\\n array([0.01562816, 0.01562285, 0.01562028, 0.01562171, 0.01562792,\\n        0.01562256, 0.01561995, 0.01562145, 0.01562792, 0.01562249,\\n        0.01561993, 0.01562135, 0.01562714, 0.01562208, 0.01561955,\\n        0.01562104, 0.01563374, 0.01562778, 0.01562644, 0.01562744,\\n        0.01563364, 0.01562753, 0.01562615, 0.0156272 , 0.01563359,\\n        0.01562754, 0.01562609, 0.01562733, 0.01563288, 0.01562705,\\n        0.0156255 , 0.01562693, 0.01563203, 0.01562661, 0.01562491,\\n        0.01562607, 0.01563189, 0.01562633, 0.01562458, 0.01562581,\\n        0.01563179, 0.01562632, 0.01562465, 0.01562591, 0.01563101,\\n        0.01562589, 0.01562406, 0.0156255 , 0.01562732, 0.01562336,\\n        0.01562181, 0.0156229 , 0.01562715, 0.0156231 , 0.01562154,\\n        0.01562267, 0.01562724, 0.01562297, 0.01562156, 0.01562255,\\n        0.01562667, 0.01562295, 0.01562141, 0.01562237], dtype=float32))\\n9.444961324334145e-05 2.9006170497065237e-05\\n'"
      ]
     },
     "execution_count": 32,
     "metadata": {},
     "output_type": "execute_result"
    }
   ],
   "source": [
    "'''\n",
    "Classically correlated state: Target & Model Distributions and Distances\n",
    "'''\n",
    "'''\n",
    "Trial 1\n",
    "(array([0.        , 0.        , 0.0254145 , 0.04425747, 0.        ,\n",
    "        0.        , 0.02766401, 0.02766401, 0.04425747, 0.02766401,\n",
    "        0.        , 0.        , 0.0254145 , 0.02766401, 0.        ,\n",
    "        0.        , 0.        , 0.        , 0.02766401, 0.02766401,\n",
    "        0.        , 0.        , 0.04425747, 0.0254145 , 0.02766401,\n",
    "        0.0254145 , 0.        , 0.        , 0.02766401, 0.04425747,\n",
    "        0.        , 0.        , 0.02766401, 0.04425747, 0.        ,\n",
    "        0.        , 0.0254145 , 0.02766401, 0.        , 0.        ,\n",
    "        0.        , 0.        , 0.04981484, 0.02506172, 0.        ,\n",
    "        0.        , 0.02506172, 0.02506172, 0.02766401, 0.0254145 ,\n",
    "        0.        , 0.        , 0.04425747, 0.02766401, 0.        ,\n",
    "        0.        , 0.        , 0.        , 0.02506172, 0.02506172,\n",
    "        0.        , 0.        , 0.02506172, 0.04981484]),\n",
    " array([4.84490338e-05, 5.72109311e-05, 2.56454833e-02, 4.44461517e-02,\n",
    "        1.07693304e-05, 1.79446979e-05, 2.73190681e-02, 2.74932031e-02,\n",
    "        4.30544205e-02, 2.71252394e-02, 4.93859479e-05, 4.71056737e-05,\n",
    "        2.54249349e-02, 2.77214795e-02, 9.61739279e-05, 8.17579494e-05,\n",
    "        9.94515722e-05, 2.41863905e-04, 2.79283766e-02, 2.82583814e-02,\n",
    "        3.84679406e-05, 1.26851461e-04, 4.36287262e-02, 2.54307762e-02,\n",
    "        2.72104256e-02, 2.53467448e-02, 7.03848345e-05, 6.05371388e-05,\n",
    "        2.80454010e-02, 4.49285433e-02, 1.37134222e-04, 8.92459138e-05,\n",
    "        2.77425703e-02, 4.45064977e-02, 1.11978705e-04, 6.95827766e-05,\n",
    "        2.51188483e-02, 2.77163126e-02, 4.43161662e-05, 3.35680088e-05,\n",
    "        6.75419797e-05, 1.26445026e-04, 4.82808463e-02, 2.40610372e-02,\n",
    "        1.11031513e-04, 1.83923723e-04, 2.47710161e-02, 2.50385329e-02,\n",
    "        2.76903547e-02, 2.57511791e-02, 1.39950309e-04, 1.29779495e-04,\n",
    "        4.31431457e-02, 2.73792148e-02, 4.30807886e-05, 3.27888592e-05,\n",
    "        1.53943965e-05, 1.54507434e-05, 2.51070857e-02, 2.52162702e-02,\n",
    "        3.56931014e-05, 5.42204616e-05, 2.58890055e-02, 5.10838367e-02],\n",
    "       dtype=float32))\n",
    "0.007946310341342175 0.003352266536626516\n",
    "'''\n",
    "'''\n",
    "Trial 2\n",
    "(array([0.        , 0.        , 0.0254145 , 0.04425747, 0.        ,\n",
    "        0.        , 0.02766401, 0.02766401, 0.04425747, 0.02766401,\n",
    "        0.        , 0.        , 0.0254145 , 0.02766401, 0.        ,\n",
    "        0.        , 0.        , 0.        , 0.02766401, 0.02766401,\n",
    "        0.        , 0.        , 0.04425747, 0.0254145 , 0.02766401,\n",
    "        0.0254145 , 0.        , 0.        , 0.02766401, 0.04425747,\n",
    "        0.        , 0.        , 0.02766401, 0.04425747, 0.        ,\n",
    "        0.        , 0.0254145 , 0.02766401, 0.        , 0.        ,\n",
    "        0.        , 0.        , 0.04981484, 0.02506172, 0.        ,\n",
    "        0.        , 0.02506172, 0.02506172, 0.02766401, 0.0254145 ,\n",
    "        0.        , 0.        , 0.04425747, 0.02766401, 0.        ,\n",
    "        0.        , 0.        , 0.        , 0.02506172, 0.02506172,\n",
    "        0.        , 0.        , 0.02506172, 0.04981484]),\n",
    " array([1.42214820e-04, 5.78737672e-05, 2.58442033e-02, 4.46714275e-02,\n",
    "        2.93405537e-05, 3.69935733e-05, 2.76480801e-02, 2.75118183e-02,\n",
    "        4.47447412e-02, 2.79420242e-02, 3.67641660e-05, 1.69105624e-04,\n",
    "        2.52885055e-02, 2.77800225e-02, 7.11571874e-06, 5.00256720e-05,\n",
    "        1.30243672e-04, 7.89643163e-05, 2.76167523e-02, 2.73887981e-02,\n",
    "        4.35935872e-05, 7.62426134e-05, 4.36780304e-02, 2.48843953e-02,\n",
    "        2.73712445e-02, 2.51205098e-02, 6.15017052e-05, 1.47101455e-04,\n",
    "        2.71253716e-02, 4.39968258e-02, 1.47157025e-05, 1.02738391e-04,\n",
    "        2.70987209e-02, 4.51673381e-02, 1.45658792e-04, 3.57110657e-05,\n",
    "        2.48433854e-02, 2.76899729e-02, 5.64604197e-05, 1.35585860e-05,\n",
    "        4.27509549e-05, 1.25623294e-04, 4.98820059e-02, 2.47149579e-02,\n",
    "        2.21335631e-05, 3.47519199e-05, 2.54813712e-02, 2.46863067e-02,\n",
    "        2.75781099e-02, 2.59637646e-02, 1.92193838e-04, 7.07342406e-05,\n",
    "        4.34141569e-02, 2.78628953e-02, 1.06300467e-04, 3.21507105e-05,\n",
    "        1.02582293e-04, 1.56290844e-04, 2.52075829e-02, 2.47593597e-02,\n",
    "        4.32064044e-05, 5.99535924e-05, 2.54815705e-02, 4.91126068e-02],\n",
    "       dtype=float32))\n",
    "0.0068953194852005295 0.0024437000709711877\n",
    "'''\n",
    "'''\n",
    "Trial 3\n",
    "(array([0.        , 0.        , 0.0254145 , 0.04425747, 0.        ,\n",
    "        0.        , 0.02766401, 0.02766401, 0.04425747, 0.02766401,\n",
    "        0.        , 0.        , 0.0254145 , 0.02766401, 0.        ,\n",
    "        0.        , 0.        , 0.        , 0.02766401, 0.02766401,\n",
    "        0.        , 0.        , 0.04425747, 0.0254145 , 0.02766401,\n",
    "        0.0254145 , 0.        , 0.        , 0.02766401, 0.04425747,\n",
    "        0.        , 0.        , 0.02766401, 0.04425747, 0.        ,\n",
    "        0.        , 0.0254145 , 0.02766401, 0.        , 0.        ,\n",
    "        0.        , 0.        , 0.04981484, 0.02506172, 0.        ,\n",
    "        0.        , 0.02506172, 0.02506172, 0.02766401, 0.0254145 ,\n",
    "        0.        , 0.        , 0.04425747, 0.02766401, 0.        ,\n",
    "        0.        , 0.        , 0.        , 0.02506172, 0.02506172,\n",
    "        0.        , 0.        , 0.02506172, 0.04981484]),\n",
    " array([4.4617158e-05, 6.6751119e-05, 2.5986431e-02, 4.3855973e-02,\n",
    "        1.3333003e-04, 1.2321238e-04, 2.7879482e-02, 2.7385147e-02,\n",
    "        4.3994363e-02, 2.8256658e-02, 7.2720934e-05, 6.4606800e-05,\n",
    "        2.5113298e-02, 2.7706960e-02, 5.1983105e-05, 1.5521437e-04,\n",
    "        1.2109500e-04, 2.8200939e-04, 2.7630297e-02, 2.7605899e-02,\n",
    "        5.0272414e-04, 7.0703647e-04, 4.3558393e-02, 2.5224460e-02,\n",
    "        2.7361823e-02, 2.5598573e-02, 3.1021779e-04, 1.1322278e-04,\n",
    "        2.7490698e-02, 4.3436434e-02, 6.7180017e-04, 5.5705133e-04,\n",
    "        2.8164975e-02, 4.5227896e-02, 8.3568259e-05, 2.7316170e-05,\n",
    "        2.4982521e-02, 2.7691817e-02, 3.6111558e-04, 1.4683147e-04,\n",
    "        1.3396126e-05, 6.1113111e-05, 5.0132912e-02, 2.4930108e-02,\n",
    "        1.4547564e-04, 2.6534765e-04, 2.5256401e-02, 2.5080392e-02,\n",
    "        2.7239805e-02, 2.5281772e-02, 1.0261127e-04, 9.8130047e-05,\n",
    "        4.2270832e-02, 2.6886338e-02, 5.4756470e-04, 6.0771691e-04,\n",
    "        3.7892773e-05, 6.9490110e-05, 2.4449805e-02, 2.4568224e-02,\n",
    "        5.6357938e-04, 5.6591642e-04, 2.4178389e-02, 4.7873300e-02],\n",
    "       dtype=float32))\n",
    "0.01132481394009811 0.004161697478700918\n",
    "'''\n",
    "'''\n",
    "Trial 4\n",
    "(array([0.        , 0.        , 0.0254145 , 0.04425747, 0.        ,\n",
    "        0.        , 0.02766401, 0.02766401, 0.04425747, 0.02766401,\n",
    "        0.        , 0.        , 0.0254145 , 0.02766401, 0.        ,\n",
    "        0.        , 0.        , 0.        , 0.02766401, 0.02766401,\n",
    "        0.        , 0.        , 0.04425747, 0.0254145 , 0.02766401,\n",
    "        0.0254145 , 0.        , 0.        , 0.02766401, 0.04425747,\n",
    "        0.        , 0.        , 0.02766401, 0.04425747, 0.        ,\n",
    "        0.        , 0.0254145 , 0.02766401, 0.        , 0.        ,\n",
    "        0.        , 0.        , 0.04981484, 0.02506172, 0.        ,\n",
    "        0.        , 0.02506172, 0.02506172, 0.02766401, 0.0254145 ,\n",
    "        0.        , 0.        , 0.04425747, 0.02766401, 0.        ,\n",
    "        0.        , 0.        , 0.        , 0.02506172, 0.02506172,\n",
    "        0.        , 0.        , 0.02506172, 0.04981484]),\n",
    " array([4.3291246e-05, 6.7459579e-05, 2.5468512e-02, 4.4318847e-02,\n",
    "        1.7697465e-05, 3.7659473e-05, 2.7593184e-02, 2.7523722e-02,\n",
    "        4.3542236e-02, 2.7766060e-02, 5.7961108e-05, 4.0914983e-05,\n",
    "        2.5091596e-02, 2.7654955e-02, 4.9411974e-05, 2.0746123e-05,\n",
    "        5.0919083e-05, 3.0259156e-05, 2.7493296e-02, 2.8467095e-02,\n",
    "        3.8688453e-05, 4.8583035e-05, 4.3803282e-02, 2.5637059e-02,\n",
    "        2.7513403e-02, 2.5622396e-02, 1.9128282e-05, 6.1943734e-05,\n",
    "        2.7310511e-02, 4.3883309e-02, 3.2387932e-05, 5.4961500e-05,\n",
    "        2.7485104e-02, 4.4434454e-02, 4.1224099e-05, 5.1369490e-05,\n",
    "        2.5293067e-02, 2.7613735e-02, 2.3628147e-05, 4.0219049e-05,\n",
    "        3.5834259e-05, 5.7199926e-05, 4.9474288e-02, 2.5221333e-02,\n",
    "        3.5069388e-05, 3.6836271e-05, 2.5444463e-02, 2.5066147e-02,\n",
    "        2.7551157e-02, 2.5778193e-02, 4.8485355e-05, 3.3664295e-05,\n",
    "        4.4153079e-02, 2.7824279e-02, 3.8158516e-05, 3.4798701e-05,\n",
    "        2.7265773e-05, 4.7712721e-05, 2.4732349e-02, 2.5378272e-02,\n",
    "        4.1624564e-05, 4.1768704e-05, 2.4995796e-02, 4.9552575e-02],\n",
    "       dtype=float32))\n",
    "0.006647017514977489 0.0016758471049156411\n",
    "'''\n",
    "\n",
    "'''\n",
    "Maximally entangled state: \n",
    "'''\n",
    "'''\n",
    "Trial 1\n",
    "(array([0.        , 0.        , 0.05018847, 0.0194835 , 0.        ,\n",
    "        0.        , 0.00289004, 0.05243798, 0.06903144, 0.00289004,\n",
    "        0.        , 0.        , 0.00064053, 0.05243798, 0.        ,\n",
    "        0.        , 0.        , 0.        , 0.00289004, 0.05243798,\n",
    "        0.        , 0.        , 0.06903144, 0.00064053, 0.00289004,\n",
    "        0.05018847, 0.        , 0.        , 0.05243798, 0.0194835 ,\n",
    "        0.        , 0.        , 0.05243798, 0.0194835 , 0.        ,\n",
    "        0.        , 0.00064053, 0.05243798, 0.        , 0.        ,\n",
    "        0.        , 0.        , 0.07225838, 0.00261818, 0.        ,\n",
    "        0.        , 0.00261818, 0.04750525, 0.00289004, 0.05018847,\n",
    "        0.        , 0.        , 0.06903144, 0.00289004, 0.        ,\n",
    "        0.        , 0.        , 0.        , 0.00261818, 0.04750525,\n",
    "        0.        , 0.        , 0.04750525, 0.02737131]),\n",
    " array([4.6319194e-05, 1.2381580e-04, 5.3220548e-02, 1.9708041e-02,\n",
    "        3.3621502e-04, 1.9065193e-04, 3.0267404e-03, 5.2712817e-02,\n",
    "        7.0652477e-02, 2.6767151e-03, 2.9534183e-05, 4.1333458e-04,\n",
    "        7.5435929e-04, 5.3227201e-02, 8.0199512e-05, 2.1427998e-04,\n",
    "        1.3914741e-05, 1.2434707e-05, 2.3359340e-03, 6.0332142e-02,\n",
    "        1.9059464e-06, 2.9749108e-06, 6.4259894e-02, 2.1233696e-02,\n",
    "        2.4961660e-02, 4.8521582e-02, 1.7289362e-06, 4.5409971e-03,\n",
    "        6.0769375e-02, 1.8630492e-02, 1.5611316e-06, 3.7832957e-04,\n",
    "        5.0105475e-02, 3.5116538e-02, 4.8448288e-07, 2.3463235e-06,\n",
    "        5.1878212e-04, 2.6860430e-06, 1.0443684e-06, 5.0074095e-07,\n",
    "        8.7628416e-07, 7.6017473e-05, 2.1308855e-07, 2.6439833e-03,\n",
    "        1.3754473e-06, 4.4322070e-03, 3.9197255e-02, 4.8390698e-02,\n",
    "        3.0389109e-03, 5.2043106e-02, 6.9514586e-04, 2.2434523e-04,\n",
    "        6.8457380e-02, 3.1002918e-03, 5.7576784e-07, 4.1780073e-05,\n",
    "        1.5201385e-04, 6.9322577e-04, 3.2481754e-03, 4.6144135e-02,\n",
    "        6.9876228e-06, 4.9439748e-04, 5.1307816e-02, 2.6437622e-02],\n",
    "       dtype=float32))\n",
    "0.13806960375567867 0.10346526504136046\n",
    "'''\n",
    "\n",
    "'''\n",
    "Maximally mixed state: \n",
    "'''\n",
    "'''\n",
    "Trial 1\n",
    "(array([0.015625, 0.015625, 0.015625, 0.015625, 0.015625, 0.015625,\n",
    "        0.015625, 0.015625, 0.015625, 0.015625, 0.015625, 0.015625,\n",
    "        0.015625, 0.015625, 0.015625, 0.015625, 0.015625, 0.015625,\n",
    "        0.015625, 0.015625, 0.015625, 0.015625, 0.015625, 0.015625,\n",
    "        0.015625, 0.015625, 0.015625, 0.015625, 0.015625, 0.015625,\n",
    "        0.015625, 0.015625, 0.015625, 0.015625, 0.015625, 0.015625,\n",
    "        0.015625, 0.015625, 0.015625, 0.015625, 0.015625, 0.015625,\n",
    "        0.015625, 0.015625, 0.015625, 0.015625, 0.015625, 0.015625,\n",
    "        0.015625, 0.015625, 0.015625, 0.015625, 0.015625, 0.015625,\n",
    "        0.015625, 0.015625, 0.015625, 0.015625, 0.015625, 0.015625,\n",
    "        0.015625, 0.015625, 0.015625, 0.015625]),\n",
    " array([0.01562816, 0.01562285, 0.01562028, 0.01562171, 0.01562792,\n",
    "        0.01562256, 0.01561995, 0.01562145, 0.01562792, 0.01562249,\n",
    "        0.01561993, 0.01562135, 0.01562714, 0.01562208, 0.01561955,\n",
    "        0.01562104, 0.01563374, 0.01562778, 0.01562644, 0.01562744,\n",
    "        0.01563364, 0.01562753, 0.01562615, 0.0156272 , 0.01563359,\n",
    "        0.01562754, 0.01562609, 0.01562733, 0.01563288, 0.01562705,\n",
    "        0.0156255 , 0.01562693, 0.01563203, 0.01562661, 0.01562491,\n",
    "        0.01562607, 0.01563189, 0.01562633, 0.01562458, 0.01562581,\n",
    "        0.01563179, 0.01562632, 0.01562465, 0.01562591, 0.01563101,\n",
    "        0.01562589, 0.01562406, 0.0156255 , 0.01562732, 0.01562336,\n",
    "        0.01562181, 0.0156229 , 0.01562715, 0.0156231 , 0.01562154,\n",
    "        0.01562267, 0.01562724, 0.01562297, 0.01562156, 0.01562255,\n",
    "        0.01562667, 0.01562295, 0.01562141, 0.01562237], dtype=float32))\n",
    "9.444961324334145e-05 2.9006170497065237e-05\n",
    "'''"
   ]
  },
  {
   "cell_type": "code",
   "execution_count": 33,
   "id": "8d574eaa-3281-468d-9498-6c75cb1b5774",
   "metadata": {
    "tags": []
   },
   "outputs": [],
   "source": [
    "tf.keras.backend.clear_session()"
   ]
  },
  {
   "cell_type": "code",
   "execution_count": null,
   "id": "a47794c7-15ff-4780-a91e-ddae5c7c1ae0",
   "metadata": {},
   "outputs": [],
   "source": []
  }
 ],
 "metadata": {
  "kernelspec": {
   "display_name": "Python 3 (ipykernel)",
   "language": "python",
   "name": "python3"
  },
  "language_info": {
   "codemirror_mode": {
    "name": "ipython",
    "version": 3
   },
   "file_extension": ".py",
   "mimetype": "text/x-python",
   "name": "python",
   "nbconvert_exporter": "python",
   "pygments_lexer": "ipython3",
   "version": "3.11.5"
  }
 },
 "nbformat": 4,
 "nbformat_minor": 5
}
