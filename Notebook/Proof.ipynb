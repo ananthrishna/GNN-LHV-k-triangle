{
 "cells": [
  {
   "cell_type": "code",
   "execution_count": 1,
   "id": "0681bfbc",
   "metadata": {},
   "outputs": [],
   "source": [
    "import numpy as np"
   ]
  },
  {
   "cell_type": "markdown",
   "id": "2e610add",
   "metadata": {},
   "source": [
    "**Here we load the alpha, beta, gama values into abc array of size (80000,3) & the response functions into three arrays of size (64,80000,4).**"
   ]
  },
  {
   "cell_type": "code",
   "execution_count": 2,
   "id": "bde39e55",
   "metadata": {},
   "outputs": [],
   "source": [
    "abc = np.load('x_test.npy')\n",
    "\n",
    "a_prob = np.load('a_prob.npy')\n",
    "\n",
    "b_prob = np.load('b_prob.npy')\n",
    "\n",
    "c_prob = np.load('c_prob.npy')"
   ]
  },
  {
   "cell_type": "code",
   "execution_count": 3,
   "id": "da11b6dd",
   "metadata": {},
   "outputs": [
    {
     "data": {
      "text/plain": [
       "(80000, 3)"
      ]
     },
     "execution_count": 3,
     "metadata": {},
     "output_type": "execute_result"
    }
   ],
   "source": [
    "abc.shape"
   ]
  },
  {
   "cell_type": "markdown",
   "id": "83bf1e16",
   "metadata": {},
   "source": [
    "**Here 64 is the number of sub-neural network systems we used owing to the rank being 64.**\n",
    "\n",
    "**80000 is the training set, meaning there are 80000 sets of alpha, beta, gamma.**\n",
    "\n",
    "**And there are 4 outputs for each observer so 4 probability vectors.**"
   ]
  },
  {
   "cell_type": "code",
   "execution_count": 24,
   "id": "6cabe80d",
   "metadata": {},
   "outputs": [
    {
     "data": {
      "text/plain": [
       "(64, 80000, 4)"
      ]
     },
     "execution_count": 24,
     "metadata": {},
     "output_type": "execute_result"
    }
   ],
   "source": [
    "a_prob.shape"
   ]
  },
  {
   "cell_type": "code",
   "execution_count": 25,
   "id": "018eebe9",
   "metadata": {},
   "outputs": [
    {
     "data": {
      "text/plain": [
       "array([[4.2634078e-15, 6.5248105e-07, 9.9999928e-01, 2.1511811e-08],\n",
       "       [1.6497231e-21, 1.3505622e-13, 1.0000000e+00, 1.6984729e-12],\n",
       "       [8.7774492e-19, 9.4793401e-12, 1.0000000e+00, 1.7873210e-10],\n",
       "       ...,\n",
       "       [3.0073263e-11, 5.1257583e-05, 9.9994838e-01, 3.7158873e-07],\n",
       "       [2.5029551e-24, 2.2187324e-07, 9.9999976e-01, 8.0620935e-15],\n",
       "       [4.2510804e-32, 4.4359295e-14, 1.0000000e+00, 1.4930089e-18]],\n",
       "      dtype=float32)"
      ]
     },
     "execution_count": 25,
     "metadata": {},
     "output_type": "execute_result"
    }
   ],
   "source": [
    "a_prob[63]"
   ]
  },
  {
   "cell_type": "markdown",
   "id": "ca4b1504",
   "metadata": {},
   "source": [
    "**Now lets make the distribution from the values of a_prob, b_prob, c_prob response functions.**"
   ]
  },
  {
   "cell_type": "markdown",
   "id": "4d6bc0ca",
   "metadata": {},
   "source": [
    "$$P_k(a,b,c) = \\frac{1}{N_{batch}}\\sum^{N_{batch}}_{i=1} P^k_{A_i}(a|\\beta,\\gamma)P^k_{B_i}(b|\\alpha,\\gamma)P^k_{C_i}(c|\\alpha,\\beta)$$"
   ]
  },
  {
   "cell_type": "markdown",
   "id": "4cb3ff90",
   "metadata": {},
   "source": [
    "$$P(a,b,c) = \\frac{1}{k}\\sum^{k}_{i=1} P_k(a,b,c)$$"
   ]
  },
  {
   "cell_type": "markdown",
   "id": "0133c67e",
   "metadata": {},
   "source": [
    "**k = 64** \n",
    "\n",
    "**Nbatch = 80,000 (we can try various sets, 1000 would suffice for our aim)**\n",
    "\n",
    "$P^k_{A_i}(a|\\beta,\\gamma)$ = a_prob\n",
    "\n",
    "$P^k_{B_i}(a|\\alpha,\\gamma)$ = b_prob\n",
    "\n",
    "$P^k_{C_i}(a|\\alpha,\\beta)$ = c_prob"
   ]
  },
  {
   "cell_type": "code",
   "execution_count": 18,
   "id": "28e1eee9",
   "metadata": {},
   "outputs": [
    {
     "data": {
      "text/plain": [
       "array([5.05757579e-05, 4.04729901e-05, 5.79621150e-02, 6.86881329e-03,\n",
       "       5.63548432e-05, 4.06420469e-05, 1.19672236e-02, 5.32599811e-02,\n",
       "       4.75280578e-02, 1.13805672e-02, 4.58474717e-05, 1.93765358e-05,\n",
       "       1.59756924e-02, 5.34760193e-02, 9.83595820e-05, 1.10774792e-05,\n",
       "       2.57760095e-05, 4.11121465e-05, 1.31373635e-02, 5.21092964e-02,\n",
       "       3.68712786e-05, 2.69423438e-05, 4.76407875e-02, 1.23807191e-02,\n",
       "       8.73638222e-03, 5.81544828e-02, 4.29642037e-05, 3.56924116e-05,\n",
       "       5.36882317e-02, 4.91130895e-03, 3.90901252e-05, 7.51701649e-05,\n",
       "       5.19625792e-02, 5.87608646e-03, 3.13202022e-05, 2.52239580e-05,\n",
       "       1.49110984e-02, 5.11225503e-02, 6.30370978e-05, 3.71733969e-05,\n",
       "       4.14605341e-05, 4.08399769e-05, 9.36027731e-02, 4.27322723e-03,\n",
       "       3.72860844e-05, 6.02787345e-06, 4.01954104e-03, 2.26296647e-02,\n",
       "       1.14776836e-02, 5.78903527e-02, 3.23869971e-04, 6.70119469e-05,\n",
       "       4.56173460e-02, 9.99218980e-03, 3.89946416e-05, 3.72910201e-05,\n",
       "       5.78864242e-05, 6.10111502e-06, 2.87449567e-03, 2.37711799e-02,\n",
       "       4.98000663e-05, 4.24969935e-05, 2.46891255e-02, 7.44625095e-02])"
      ]
     },
     "execution_count": 18,
     "metadata": {},
     "output_type": "execute_result"
    }
   ],
   "source": [
    "sum_i = np.zeros((4,4,4))\n",
    "Nbatch = np.zeros((4,4,4))\n",
    "for k in range(64):\n",
    "    for i in range(100):\n",
    "        sum_i = sum_i + a_prob[k][i].reshape(4,1,1)*b_prob[k][i].reshape(1,4,1)*c_prob[k][i].reshape(1,1,4)\n",
    "    sum_i = sum_i*(0.01)\n",
    "    Nbatch = Nbatch + sum_i\n",
    "Nbatch = Nbatch*(1/64)\n",
    "Nbatch100 = np.array(Nbatch.flatten())\n",
    "Nbatch100"
   ]
  },
  {
   "cell_type": "code",
   "execution_count": 20,
   "id": "d5fbdf55",
   "metadata": {},
   "outputs": [
    {
     "data": {
      "text/plain": [
       "array([5.27881909e-05, 4.43524387e-05, 5.71299998e-02, 6.75877175e-03,\n",
       "       5.23939634e-05, 4.95069916e-05, 1.07857738e-02, 5.15260746e-02,\n",
       "       4.72450659e-02, 1.01269058e-02, 5.45358422e-05, 3.02447935e-05,\n",
       "       1.58164073e-02, 5.15488890e-02, 8.35271314e-05, 5.07603927e-05,\n",
       "       4.33389772e-05, 4.73756807e-05, 1.13286141e-02, 5.13865498e-02,\n",
       "       5.33108929e-05, 5.44674196e-05, 4.75376882e-02, 1.60768589e-02,\n",
       "       1.00604291e-02, 5.66487197e-02, 5.82611462e-05, 4.32501883e-05,\n",
       "       5.15218131e-02, 5.96385706e-03, 4.33107513e-05, 7.28629802e-05,\n",
       "       5.16507571e-02, 6.48512104e-03, 8.03817967e-05, 3.86952861e-05,\n",
       "       1.55843347e-02, 5.11690634e-02, 6.15193991e-05, 4.92271371e-05,\n",
       "       4.90358290e-05, 5.36200778e-05, 9.27180427e-02, 4.81175770e-03,\n",
       "       4.09979181e-05, 5.00301828e-05, 4.36770966e-03, 2.24692890e-02,\n",
       "       1.02157484e-02, 5.65646810e-02, 1.82602566e-04, 5.48336965e-05,\n",
       "       4.66443519e-02, 1.06007829e-02, 4.23062461e-05, 6.36621830e-05,\n",
       "       4.39354531e-05, 3.46562183e-05, 4.48484354e-03, 2.23838876e-02,\n",
       "       6.16646975e-05, 5.03146286e-05, 2.33118952e-02, 7.42688940e-02])"
      ]
     },
     "execution_count": 20,
     "metadata": {},
     "output_type": "execute_result"
    }
   ],
   "source": [
    "sum_i = np.zeros((4,4,4))\n",
    "Nbatch = np.zeros((4,4,4))\n",
    "for k in range(64):\n",
    "    for i in range(1000):\n",
    "        sum_i = sum_i + a_prob[k][i].reshape(4,1,1)*b_prob[k][i].reshape(1,4,1)*c_prob[k][i].reshape(1,1,4)\n",
    "    sum_i = sum_i*(0.001)\n",
    "    Nbatch = Nbatch + sum_i\n",
    "Nbatch = Nbatch*(1/64)\n",
    "Nbatch1000 = np.array(Nbatch.flatten())\n",
    "Nbatch1000"
   ]
  },
  {
   "cell_type": "code",
   "execution_count": 21,
   "id": "817b4661",
   "metadata": {},
   "outputs": [
    {
     "data": {
      "text/plain": [
       "array([5.15576891e-05, 4.50010426e-05, 5.73122064e-02, 6.91516204e-03,\n",
       "       5.23230299e-05, 5.35034206e-05, 1.08871872e-02, 5.14465662e-02,\n",
       "       4.71948479e-02, 1.02587879e-02, 5.58801670e-05, 3.53034341e-05,\n",
       "       1.57935917e-02, 5.10910024e-02, 8.20763196e-05, 4.23891308e-05,\n",
       "       4.45163342e-05, 4.76122822e-05, 1.13095642e-02, 5.13679152e-02,\n",
       "       5.25403344e-05, 5.70301378e-05, 4.74058726e-02, 1.58478555e-02,\n",
       "       1.00425042e-02, 5.66656083e-02, 5.76593724e-05, 4.52921099e-05,\n",
       "       5.12394117e-02, 6.13863930e-03, 3.99006143e-05, 7.67843168e-05,\n",
       "       5.13967693e-02, 6.32615014e-03, 6.34408935e-05, 4.12729522e-05,\n",
       "       1.55822279e-02, 5.10821209e-02, 6.22583149e-05, 4.72932549e-05,\n",
       "       4.92979479e-05, 5.12747591e-05, 9.27160592e-02, 4.46618474e-03,\n",
       "       4.03745911e-05, 4.11363460e-05, 4.24018716e-03, 2.28048568e-02,\n",
       "       1.03031302e-02, 5.67565505e-02, 1.53616559e-04, 6.11022016e-05,\n",
       "       4.66188949e-02, 1.03133716e-02, 4.18938126e-05, 6.35952618e-05,\n",
       "       4.66097278e-05, 4.61025439e-05, 4.59875819e-03, 2.27628359e-02,\n",
       "       5.67966754e-05, 4.82196362e-05, 2.30173704e-02, 7.44426052e-02])"
      ]
     },
     "execution_count": 21,
     "metadata": {},
     "output_type": "execute_result"
    }
   ],
   "source": [
    "sum_i = np.zeros((4,4,4))\n",
    "Nbatch = np.zeros((4,4,4))\n",
    "for k in range(64):\n",
    "    for i in range(10000):\n",
    "        sum_i = sum_i + a_prob[k][i].reshape(4,1,1)*b_prob[k][i].reshape(1,4,1)*c_prob[k][i].reshape(1,1,4)\n",
    "    sum_i = sum_i*(0.0001)\n",
    "    Nbatch = Nbatch + sum_i\n",
    "Nbatch = Nbatch*(1/64)\n",
    "Nbatch10000 = np.array(Nbatch.flatten())\n",
    "Nbatch10000"
   ]
  },
  {
   "cell_type": "markdown",
   "id": "7864ec95",
   "metadata": {},
   "source": [
    " "
   ]
  },
  {
   "cell_type": "markdown",
   "id": "a5e270ae",
   "metadata": {},
   "source": [
    "**Now we load the target distribution and the model distribution that the model reproduced.**"
   ]
  },
  {
   "cell_type": "markdown",
   "id": "7ad55528",
   "metadata": {},
   "source": [
    "**We are considering a distribution with Werner states of visibility 0.999 (noise = 0.001)**"
   ]
  },
  {
   "cell_type": "code",
   "execution_count": 6,
   "id": "79554616",
   "metadata": {
    "scrolled": true
   },
   "outputs": [],
   "source": [
    "target = np.load('target_distributions.npy')[0]\n",
    "model = np.load('distributions.npy')[0]"
   ]
  },
  {
   "cell_type": "code",
   "execution_count": 7,
   "id": "7940fd2b",
   "metadata": {},
   "outputs": [
    {
     "data": {
      "text/plain": [
       "array([4.89398709e-05, 4.89398709e-05, 5.65927647e-02, 6.43370450e-03,\n",
       "       4.89398709e-05, 4.82895074e-05, 1.04898590e-02, 5.12885626e-02,\n",
       "       4.72324081e-02, 1.04898590e-02, 5.79230167e-05, 3.71926802e-05,\n",
       "       1.57940611e-02, 5.12885626e-02, 4.20704065e-05, 5.79230167e-05,\n",
       "       4.82895074e-05, 4.89398709e-05, 1.04898590e-02, 5.12885626e-02,\n",
       "       4.89398709e-05, 4.89398709e-05, 4.72324081e-02, 1.57940611e-02,\n",
       "       1.04898590e-02, 5.65927647e-02, 5.79230167e-05, 4.20704065e-05,\n",
       "       5.12885626e-02, 6.43370450e-03, 3.71926802e-05, 5.79230167e-05,\n",
       "       5.12885626e-02, 6.43370450e-03, 5.79230167e-05, 3.71926802e-05,\n",
       "       1.57940611e-02, 5.12885626e-02, 5.79230167e-05, 4.20704065e-05,\n",
       "       5.79230167e-05, 5.79230167e-05, 9.28680939e-02, 4.63568895e-03,\n",
       "       4.20704065e-05, 3.71926802e-05, 4.63568895e-03, 2.26654191e-02,\n",
       "       1.04898590e-02, 5.65927647e-02, 4.20704065e-05, 5.79230167e-05,\n",
       "       4.72324081e-02, 1.04898590e-02, 3.71926802e-05, 5.79230167e-05,\n",
       "       3.71926802e-05, 4.20704065e-05, 4.63568895e-03, 2.26654191e-02,\n",
       "       5.79230167e-05, 5.79230167e-05, 2.26654191e-02, 7.48383638e-02])"
      ]
     },
     "execution_count": 7,
     "metadata": {},
     "output_type": "execute_result"
    }
   ],
   "source": [
    "target"
   ]
  },
  {
   "cell_type": "code",
   "execution_count": 8,
   "id": "ceb2edd3",
   "metadata": {
    "scrolled": true
   },
   "outputs": [
    {
     "data": {
      "text/plain": [
       "array([5.12018996e-05, 4.44377110e-05, 5.72525039e-02, 6.77851355e-03,\n",
       "       5.20222238e-05, 5.30657599e-05, 1.06862029e-02, 5.16716316e-02,\n",
       "       4.71937358e-02, 1.01454165e-02, 5.50311634e-05, 3.45483895e-05,\n",
       "       1.57845691e-02, 5.10192923e-02, 7.93184081e-05, 4.38550633e-05,\n",
       "       4.48191568e-05, 4.59110743e-05, 1.10001350e-02, 5.13627753e-02,\n",
       "       5.48002245e-05, 5.60121371e-05, 4.74612080e-02, 1.62304379e-02,\n",
       "       1.03223529e-02, 5.66210821e-02, 5.84976733e-05, 4.70420928e-05,\n",
       "       5.09854220e-02, 6.25147996e-03, 4.08033484e-05, 7.53697896e-05,\n",
       "       5.12385331e-02, 6.35264022e-03, 5.97051985e-05, 4.31968801e-05,\n",
       "       1.56964902e-02, 5.11774272e-02, 6.09696799e-05, 4.68408361e-05,\n",
       "       4.94909182e-05, 5.17812841e-05, 9.27083194e-02, 4.48520156e-03,\n",
       "       3.91271788e-05, 4.43989484e-05, 4.32461733e-03, 2.27161627e-02,\n",
       "       1.02379527e-02, 5.65162897e-02, 1.45184022e-04, 6.03153821e-05,\n",
       "       4.69359420e-02, 1.04166474e-02, 3.98720476e-05, 6.11128344e-05,\n",
       "       4.41271259e-05, 4.16964576e-05, 4.78075491e-03, 2.25749854e-02,\n",
       "       5.99938285e-05, 5.08860394e-05, 2.28716992e-02, 7.44903386e-02])"
      ]
     },
     "execution_count": 8,
     "metadata": {},
     "output_type": "execute_result"
    }
   ],
   "source": [
    "model"
   ]
  },
  {
   "cell_type": "markdown",
   "id": "a0df286d",
   "metadata": {},
   "source": [
    "**We can know check the euclidean distance of the model and target**"
   ]
  },
  {
   "cell_type": "code",
   "execution_count": 9,
   "id": "6a7d158e",
   "metadata": {},
   "outputs": [],
   "source": [
    "def np_euclidean_distance(p,q=0):\n",
    "    \"\"\" Euclidean distance, useful for plotting results.\"\"\"\n",
    "    return np.sqrt(np.sum(np.square(p-q),axis=-1))"
   ]
  },
  {
   "cell_type": "code",
   "execution_count": 12,
   "id": "c75b1092",
   "metadata": {},
   "outputs": [
    {
     "data": {
      "text/plain": [
       "np.float64(0.001463494370854911)"
      ]
     },
     "execution_count": 12,
     "metadata": {},
     "output_type": "execute_result"
    }
   ],
   "source": [
    "np_euclidean_distance(target,model)"
   ]
  },
  {
   "cell_type": "markdown",
   "id": "e216e971",
   "metadata": {},
   "source": [
    "**Now lets check the distribution we made from the a_prob, b_prob, c_prob values manually, in increasing order of training set, 100, 1000, 10000.**"
   ]
  },
  {
   "cell_type": "code",
   "execution_count": 19,
   "id": "172dd392",
   "metadata": {},
   "outputs": [
    {
     "data": {
      "text/plain": [
       "np.float64(0.007982231248393671)"
      ]
     },
     "execution_count": 19,
     "metadata": {},
     "output_type": "execute_result"
    }
   ],
   "source": [
    "np_euclidean_distance(target,Nbatch100)"
   ]
  },
  {
   "cell_type": "code",
   "execution_count": 22,
   "id": "fb573bc1",
   "metadata": {},
   "outputs": [
    {
     "data": {
      "text/plain": [
       "np.float64(0.0019351047193235378)"
      ]
     },
     "execution_count": 22,
     "metadata": {},
     "output_type": "execute_result"
    }
   ],
   "source": [
    "np_euclidean_distance(target,Nbatch1000)"
   ]
  },
  {
   "cell_type": "code",
   "execution_count": 23,
   "id": "ddd97842",
   "metadata": {},
   "outputs": [
    {
     "data": {
      "text/plain": [
       "np.float64(0.0017738544405365385)"
      ]
     },
     "execution_count": 23,
     "metadata": {},
     "output_type": "execute_result"
    }
   ],
   "source": [
    "np_euclidean_distance(target,Nbatch10000)"
   ]
  },
  {
   "cell_type": "code",
   "execution_count": null,
   "id": "86e414c1",
   "metadata": {},
   "outputs": [],
   "source": []
  }
 ],
 "metadata": {
  "kernelspec": {
   "display_name": "Python 3 (ipykernel)",
   "language": "python",
   "name": "python3"
  },
  "language_info": {
   "codemirror_mode": {
    "name": "ipython",
    "version": 3
   },
   "file_extension": ".py",
   "mimetype": "text/x-python",
   "name": "python",
   "nbconvert_exporter": "python",
   "pygments_lexer": "ipython3",
   "version": "3.11.5"
  }
 },
 "nbformat": 4,
 "nbformat_minor": 5
}
